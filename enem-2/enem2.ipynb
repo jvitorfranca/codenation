{
 "cells": [
  {
   "cell_type": "code",
   "execution_count": 137,
   "metadata": {},
   "outputs": [],
   "source": [
    "import pandas as pd"
   ]
  },
  {
   "cell_type": "code",
   "execution_count": 138,
   "metadata": {},
   "outputs": [
    {
     "output_type": "execute_result",
     "data": {
      "text/plain": "   Unnamed: 0                              NU_INSCRICAO  NU_ANO  \\\n0           1  ed50e8aaa58e7a806c337585efee9ca41f1eb1ad    2016   \n1           2  2c3acac4b33ec2b195d77e7c04a2d75727fad723    2016   \n2           3  f4545f8ccb9ff5c8aad7d32951b3f251a26e6568    2016   \n3           4  3d6ec248fef899c414e77f82d5c6d2bffbeaf7fe    2016   \n4           5  bf896ac8d3ecadd6dba1dfbf50110afcbf5d3268    2016   \n5           6  a37c99ec251d4f6e8ddbeabadf1c87fdbfddc4d1    2016   \n6           7  63b4e128e9ffe8ab27f5d093db1976ef4f353e0a    2016   \n7           8  2eb189d4912f64b19d1967e8e84b6141aba18770    2016   \n8           9  5822cb43e0800429be2084b3f86a63aaa73fa66c    2016   \n9          10  94f7e277f87cd58e10a45da4ad5dd168651cf3ef    2016   \n\n   CO_MUNICIPIO_RESIDENCIA NO_MUNICIPIO_RESIDENCIA  CO_UF_RESIDENCIA  \\\n0                  4314902            Porto Alegre                43   \n1                  2304707                  Granja                23   \n2                  2304400               Fortaleza                23   \n3                  3304557          Rio de Janeiro                33   \n4                  1302603                  Manaus                13   \n5                  2902005                 Aracatu                29   \n6                  5102637   Campo Novo do Parecis                51   \n7                  4301602                    Bagé                43   \n8                  2601904                Bezerros                26   \n9                  3152501            Pouso Alegre                31   \n\n  SG_UF_RESIDENCIA  NU_IDADE TP_SEXO  TP_ESTADO_CIVIL  ...  Q041  Q042  Q043  \\\n0               RS        24       M              0.0  ...   5.0     A     A   \n1               CE        17       F              0.0  ...   NaN     A     A   \n2               CE        21       F              0.0  ...   NaN     A     A   \n3               RJ        25       F              0.0  ...   5.0     C     A   \n4               AM        28       M              0.0  ...   NaN     A     A   \n5               BA        18       F              0.0  ...   NaN     A     A   \n6               MT        18       F              0.0  ...   0.0     A     A   \n7               RS        18       F              0.0  ...   NaN     C     A   \n8               PE        16       F              0.0  ...   NaN     D     A   \n9               MG        24       M              0.0  ...   NaN     A     A   \n\n  Q044  Q045 Q046  Q047  Q048  Q049  Q050  \n0    A     A    A     A     A     B     D  \n1    C     A    B     A     A     C     A  \n2    A     A    C     A     A     B     A  \n3    A     A    A     D     A     A     A  \n4    A     A    A     A     A     A     A  \n5    A     A    A     A     A     A     A  \n6    A     B    B     A     A     A     A  \n7    A     A    A     D     A     A     A  \n8    A     A    B     A     D     B     A  \n9    A     B    D     A     B     B     C  \n\n[10 rows x 167 columns]",
      "text/html": "<div>\n<style scoped>\n    .dataframe tbody tr th:only-of-type {\n        vertical-align: middle;\n    }\n\n    .dataframe tbody tr th {\n        vertical-align: top;\n    }\n\n    .dataframe thead th {\n        text-align: right;\n    }\n</style>\n<table border=\"1\" class=\"dataframe\">\n  <thead>\n    <tr style=\"text-align: right;\">\n      <th></th>\n      <th>Unnamed: 0</th>\n      <th>NU_INSCRICAO</th>\n      <th>NU_ANO</th>\n      <th>CO_MUNICIPIO_RESIDENCIA</th>\n      <th>NO_MUNICIPIO_RESIDENCIA</th>\n      <th>CO_UF_RESIDENCIA</th>\n      <th>SG_UF_RESIDENCIA</th>\n      <th>NU_IDADE</th>\n      <th>TP_SEXO</th>\n      <th>TP_ESTADO_CIVIL</th>\n      <th>...</th>\n      <th>Q041</th>\n      <th>Q042</th>\n      <th>Q043</th>\n      <th>Q044</th>\n      <th>Q045</th>\n      <th>Q046</th>\n      <th>Q047</th>\n      <th>Q048</th>\n      <th>Q049</th>\n      <th>Q050</th>\n    </tr>\n  </thead>\n  <tbody>\n    <tr>\n      <th>0</th>\n      <td>1</td>\n      <td>ed50e8aaa58e7a806c337585efee9ca41f1eb1ad</td>\n      <td>2016</td>\n      <td>4314902</td>\n      <td>Porto Alegre</td>\n      <td>43</td>\n      <td>RS</td>\n      <td>24</td>\n      <td>M</td>\n      <td>0.0</td>\n      <td>...</td>\n      <td>5.0</td>\n      <td>A</td>\n      <td>A</td>\n      <td>A</td>\n      <td>A</td>\n      <td>A</td>\n      <td>A</td>\n      <td>A</td>\n      <td>B</td>\n      <td>D</td>\n    </tr>\n    <tr>\n      <th>1</th>\n      <td>2</td>\n      <td>2c3acac4b33ec2b195d77e7c04a2d75727fad723</td>\n      <td>2016</td>\n      <td>2304707</td>\n      <td>Granja</td>\n      <td>23</td>\n      <td>CE</td>\n      <td>17</td>\n      <td>F</td>\n      <td>0.0</td>\n      <td>...</td>\n      <td>NaN</td>\n      <td>A</td>\n      <td>A</td>\n      <td>C</td>\n      <td>A</td>\n      <td>B</td>\n      <td>A</td>\n      <td>A</td>\n      <td>C</td>\n      <td>A</td>\n    </tr>\n    <tr>\n      <th>2</th>\n      <td>3</td>\n      <td>f4545f8ccb9ff5c8aad7d32951b3f251a26e6568</td>\n      <td>2016</td>\n      <td>2304400</td>\n      <td>Fortaleza</td>\n      <td>23</td>\n      <td>CE</td>\n      <td>21</td>\n      <td>F</td>\n      <td>0.0</td>\n      <td>...</td>\n      <td>NaN</td>\n      <td>A</td>\n      <td>A</td>\n      <td>A</td>\n      <td>A</td>\n      <td>C</td>\n      <td>A</td>\n      <td>A</td>\n      <td>B</td>\n      <td>A</td>\n    </tr>\n    <tr>\n      <th>3</th>\n      <td>4</td>\n      <td>3d6ec248fef899c414e77f82d5c6d2bffbeaf7fe</td>\n      <td>2016</td>\n      <td>3304557</td>\n      <td>Rio de Janeiro</td>\n      <td>33</td>\n      <td>RJ</td>\n      <td>25</td>\n      <td>F</td>\n      <td>0.0</td>\n      <td>...</td>\n      <td>5.0</td>\n      <td>C</td>\n      <td>A</td>\n      <td>A</td>\n      <td>A</td>\n      <td>A</td>\n      <td>D</td>\n      <td>A</td>\n      <td>A</td>\n      <td>A</td>\n    </tr>\n    <tr>\n      <th>4</th>\n      <td>5</td>\n      <td>bf896ac8d3ecadd6dba1dfbf50110afcbf5d3268</td>\n      <td>2016</td>\n      <td>1302603</td>\n      <td>Manaus</td>\n      <td>13</td>\n      <td>AM</td>\n      <td>28</td>\n      <td>M</td>\n      <td>0.0</td>\n      <td>...</td>\n      <td>NaN</td>\n      <td>A</td>\n      <td>A</td>\n      <td>A</td>\n      <td>A</td>\n      <td>A</td>\n      <td>A</td>\n      <td>A</td>\n      <td>A</td>\n      <td>A</td>\n    </tr>\n    <tr>\n      <th>5</th>\n      <td>6</td>\n      <td>a37c99ec251d4f6e8ddbeabadf1c87fdbfddc4d1</td>\n      <td>2016</td>\n      <td>2902005</td>\n      <td>Aracatu</td>\n      <td>29</td>\n      <td>BA</td>\n      <td>18</td>\n      <td>F</td>\n      <td>0.0</td>\n      <td>...</td>\n      <td>NaN</td>\n      <td>A</td>\n      <td>A</td>\n      <td>A</td>\n      <td>A</td>\n      <td>A</td>\n      <td>A</td>\n      <td>A</td>\n      <td>A</td>\n      <td>A</td>\n    </tr>\n    <tr>\n      <th>6</th>\n      <td>7</td>\n      <td>63b4e128e9ffe8ab27f5d093db1976ef4f353e0a</td>\n      <td>2016</td>\n      <td>5102637</td>\n      <td>Campo Novo do Parecis</td>\n      <td>51</td>\n      <td>MT</td>\n      <td>18</td>\n      <td>F</td>\n      <td>0.0</td>\n      <td>...</td>\n      <td>0.0</td>\n      <td>A</td>\n      <td>A</td>\n      <td>A</td>\n      <td>B</td>\n      <td>B</td>\n      <td>A</td>\n      <td>A</td>\n      <td>A</td>\n      <td>A</td>\n    </tr>\n    <tr>\n      <th>7</th>\n      <td>8</td>\n      <td>2eb189d4912f64b19d1967e8e84b6141aba18770</td>\n      <td>2016</td>\n      <td>4301602</td>\n      <td>Bagé</td>\n      <td>43</td>\n      <td>RS</td>\n      <td>18</td>\n      <td>F</td>\n      <td>0.0</td>\n      <td>...</td>\n      <td>NaN</td>\n      <td>C</td>\n      <td>A</td>\n      <td>A</td>\n      <td>A</td>\n      <td>A</td>\n      <td>D</td>\n      <td>A</td>\n      <td>A</td>\n      <td>A</td>\n    </tr>\n    <tr>\n      <th>8</th>\n      <td>9</td>\n      <td>5822cb43e0800429be2084b3f86a63aaa73fa66c</td>\n      <td>2016</td>\n      <td>2601904</td>\n      <td>Bezerros</td>\n      <td>26</td>\n      <td>PE</td>\n      <td>16</td>\n      <td>F</td>\n      <td>0.0</td>\n      <td>...</td>\n      <td>NaN</td>\n      <td>D</td>\n      <td>A</td>\n      <td>A</td>\n      <td>A</td>\n      <td>B</td>\n      <td>A</td>\n      <td>D</td>\n      <td>B</td>\n      <td>A</td>\n    </tr>\n    <tr>\n      <th>9</th>\n      <td>10</td>\n      <td>94f7e277f87cd58e10a45da4ad5dd168651cf3ef</td>\n      <td>2016</td>\n      <td>3152501</td>\n      <td>Pouso Alegre</td>\n      <td>31</td>\n      <td>MG</td>\n      <td>24</td>\n      <td>M</td>\n      <td>0.0</td>\n      <td>...</td>\n      <td>NaN</td>\n      <td>A</td>\n      <td>A</td>\n      <td>A</td>\n      <td>B</td>\n      <td>D</td>\n      <td>A</td>\n      <td>B</td>\n      <td>B</td>\n      <td>C</td>\n    </tr>\n  </tbody>\n</table>\n<p>10 rows × 167 columns</p>\n</div>"
     },
     "metadata": {},
     "execution_count": 138
    }
   ],
   "source": [
    "\"\"\"\n",
    "Importando os dados de treinamento\n",
    "\"\"\"\n",
    "\n",
    "data = pd.read_csv('train.csv')\n",
    "data.head(10)"
   ]
  },
  {
   "cell_type": "code",
   "execution_count": 139,
   "metadata": {},
   "outputs": [
    {
     "output_type": "execute_result",
     "data": {
      "text/plain": "                               NU_INSCRICAO  CO_UF_RESIDENCIA  \\\n0  73ff9fcc02f0a99919906c942c2e1a1042cdcf98                41   \n1  71a95f9f1b91a82c65ad94abbdf9f54e6066f968                21   \n2  b38a03232f43b11c9d0788abaf060f7366053b6d                23   \n3  70b682d9a3636be23f6120fa9d6b164eb3c6002d                15   \n4  715494628a50142ce8cb17191cfe6d0f3cae0934                41   \n5  e656d6bad65c93fb2880f1eba5037008c8e75774                43   \n6  465cd2a6907fb37d9d8ad3c065f0e2dabdba9b13                35   \n7  11539e86171bf07d3a36f09377d7f54ebcc8406a                23   \n8  043c544a2104aa8a9849f1a703a08d37a2f16839                51   \n9  76ba050e64ad100b856f0eaabd8f539d5c7dd185                15   \n\n  SG_UF_RESIDENCIA  NU_IDADE TP_SEXO  TP_COR_RACA  TP_NACIONALIDADE  \\\n0               PR        22       F            3                 1   \n1               MA        26       F            3                 1   \n2               CE        21       M            1                 1   \n3               PA        27       F            3                 1   \n4               PR        18       M            1                 1   \n5               RS        18       M            3                 1   \n6               SP        17       F            1                 1   \n7               CE        17       F            3                 2   \n8               MT        18       F            3                 1   \n9               PA        17       M            3                 2   \n\n   TP_ST_CONCLUSAO  TP_ANO_CONCLUIU  TP_ESCOLA  ...  NU_NOTA_COMP5  \\\n0                1                5          1  ...           40.0   \n1                1                8          1  ...          100.0   \n2                2                0          2  ...           80.0   \n3                1                8          1  ...            NaN   \n4                2                0          2  ...            0.0   \n5                1                1          1  ...           80.0   \n6                2                0          3  ...          120.0   \n7                2                0          2  ...           60.0   \n8                2                0          2  ...          160.0   \n9                2                0          2  ...          100.0   \n\n   NU_NOTA_REDACAO  Q001  Q002  Q006  Q024  Q025  Q026  Q027  Q047  \n0            420.0     B     A     C     A     A     C     C     A  \n1            580.0     E     B     C     B     B     B     F     A  \n2            320.0     E     E     D     B     B     A   NaN     A  \n3              NaN     H     E     G     B     B     A   NaN     A  \n4            320.0     D     H     H     C     B     A   NaN     A  \n5            560.0     E     E     C     B     B     A   NaN     A  \n6            620.0     D     E     H     D     B     A   NaN     D  \n7            420.0     D     C     B     A     A     A   NaN     A  \n8            740.0     B     D     C     A     A     B     D     A  \n9            580.0     B     C     B     A     A     A   NaN     A  \n\n[10 rows x 47 columns]",
      "text/html": "<div>\n<style scoped>\n    .dataframe tbody tr th:only-of-type {\n        vertical-align: middle;\n    }\n\n    .dataframe tbody tr th {\n        vertical-align: top;\n    }\n\n    .dataframe thead th {\n        text-align: right;\n    }\n</style>\n<table border=\"1\" class=\"dataframe\">\n  <thead>\n    <tr style=\"text-align: right;\">\n      <th></th>\n      <th>NU_INSCRICAO</th>\n      <th>CO_UF_RESIDENCIA</th>\n      <th>SG_UF_RESIDENCIA</th>\n      <th>NU_IDADE</th>\n      <th>TP_SEXO</th>\n      <th>TP_COR_RACA</th>\n      <th>TP_NACIONALIDADE</th>\n      <th>TP_ST_CONCLUSAO</th>\n      <th>TP_ANO_CONCLUIU</th>\n      <th>TP_ESCOLA</th>\n      <th>...</th>\n      <th>NU_NOTA_COMP5</th>\n      <th>NU_NOTA_REDACAO</th>\n      <th>Q001</th>\n      <th>Q002</th>\n      <th>Q006</th>\n      <th>Q024</th>\n      <th>Q025</th>\n      <th>Q026</th>\n      <th>Q027</th>\n      <th>Q047</th>\n    </tr>\n  </thead>\n  <tbody>\n    <tr>\n      <th>0</th>\n      <td>73ff9fcc02f0a99919906c942c2e1a1042cdcf98</td>\n      <td>41</td>\n      <td>PR</td>\n      <td>22</td>\n      <td>F</td>\n      <td>3</td>\n      <td>1</td>\n      <td>1</td>\n      <td>5</td>\n      <td>1</td>\n      <td>...</td>\n      <td>40.0</td>\n      <td>420.0</td>\n      <td>B</td>\n      <td>A</td>\n      <td>C</td>\n      <td>A</td>\n      <td>A</td>\n      <td>C</td>\n      <td>C</td>\n      <td>A</td>\n    </tr>\n    <tr>\n      <th>1</th>\n      <td>71a95f9f1b91a82c65ad94abbdf9f54e6066f968</td>\n      <td>21</td>\n      <td>MA</td>\n      <td>26</td>\n      <td>F</td>\n      <td>3</td>\n      <td>1</td>\n      <td>1</td>\n      <td>8</td>\n      <td>1</td>\n      <td>...</td>\n      <td>100.0</td>\n      <td>580.0</td>\n      <td>E</td>\n      <td>B</td>\n      <td>C</td>\n      <td>B</td>\n      <td>B</td>\n      <td>B</td>\n      <td>F</td>\n      <td>A</td>\n    </tr>\n    <tr>\n      <th>2</th>\n      <td>b38a03232f43b11c9d0788abaf060f7366053b6d</td>\n      <td>23</td>\n      <td>CE</td>\n      <td>21</td>\n      <td>M</td>\n      <td>1</td>\n      <td>1</td>\n      <td>2</td>\n      <td>0</td>\n      <td>2</td>\n      <td>...</td>\n      <td>80.0</td>\n      <td>320.0</td>\n      <td>E</td>\n      <td>E</td>\n      <td>D</td>\n      <td>B</td>\n      <td>B</td>\n      <td>A</td>\n      <td>NaN</td>\n      <td>A</td>\n    </tr>\n    <tr>\n      <th>3</th>\n      <td>70b682d9a3636be23f6120fa9d6b164eb3c6002d</td>\n      <td>15</td>\n      <td>PA</td>\n      <td>27</td>\n      <td>F</td>\n      <td>3</td>\n      <td>1</td>\n      <td>1</td>\n      <td>8</td>\n      <td>1</td>\n      <td>...</td>\n      <td>NaN</td>\n      <td>NaN</td>\n      <td>H</td>\n      <td>E</td>\n      <td>G</td>\n      <td>B</td>\n      <td>B</td>\n      <td>A</td>\n      <td>NaN</td>\n      <td>A</td>\n    </tr>\n    <tr>\n      <th>4</th>\n      <td>715494628a50142ce8cb17191cfe6d0f3cae0934</td>\n      <td>41</td>\n      <td>PR</td>\n      <td>18</td>\n      <td>M</td>\n      <td>1</td>\n      <td>1</td>\n      <td>2</td>\n      <td>0</td>\n      <td>2</td>\n      <td>...</td>\n      <td>0.0</td>\n      <td>320.0</td>\n      <td>D</td>\n      <td>H</td>\n      <td>H</td>\n      <td>C</td>\n      <td>B</td>\n      <td>A</td>\n      <td>NaN</td>\n      <td>A</td>\n    </tr>\n    <tr>\n      <th>5</th>\n      <td>e656d6bad65c93fb2880f1eba5037008c8e75774</td>\n      <td>43</td>\n      <td>RS</td>\n      <td>18</td>\n      <td>M</td>\n      <td>3</td>\n      <td>1</td>\n      <td>1</td>\n      <td>1</td>\n      <td>1</td>\n      <td>...</td>\n      <td>80.0</td>\n      <td>560.0</td>\n      <td>E</td>\n      <td>E</td>\n      <td>C</td>\n      <td>B</td>\n      <td>B</td>\n      <td>A</td>\n      <td>NaN</td>\n      <td>A</td>\n    </tr>\n    <tr>\n      <th>6</th>\n      <td>465cd2a6907fb37d9d8ad3c065f0e2dabdba9b13</td>\n      <td>35</td>\n      <td>SP</td>\n      <td>17</td>\n      <td>F</td>\n      <td>1</td>\n      <td>1</td>\n      <td>2</td>\n      <td>0</td>\n      <td>3</td>\n      <td>...</td>\n      <td>120.0</td>\n      <td>620.0</td>\n      <td>D</td>\n      <td>E</td>\n      <td>H</td>\n      <td>D</td>\n      <td>B</td>\n      <td>A</td>\n      <td>NaN</td>\n      <td>D</td>\n    </tr>\n    <tr>\n      <th>7</th>\n      <td>11539e86171bf07d3a36f09377d7f54ebcc8406a</td>\n      <td>23</td>\n      <td>CE</td>\n      <td>17</td>\n      <td>F</td>\n      <td>3</td>\n      <td>2</td>\n      <td>2</td>\n      <td>0</td>\n      <td>2</td>\n      <td>...</td>\n      <td>60.0</td>\n      <td>420.0</td>\n      <td>D</td>\n      <td>C</td>\n      <td>B</td>\n      <td>A</td>\n      <td>A</td>\n      <td>A</td>\n      <td>NaN</td>\n      <td>A</td>\n    </tr>\n    <tr>\n      <th>8</th>\n      <td>043c544a2104aa8a9849f1a703a08d37a2f16839</td>\n      <td>51</td>\n      <td>MT</td>\n      <td>18</td>\n      <td>F</td>\n      <td>3</td>\n      <td>1</td>\n      <td>2</td>\n      <td>0</td>\n      <td>2</td>\n      <td>...</td>\n      <td>160.0</td>\n      <td>740.0</td>\n      <td>B</td>\n      <td>D</td>\n      <td>C</td>\n      <td>A</td>\n      <td>A</td>\n      <td>B</td>\n      <td>D</td>\n      <td>A</td>\n    </tr>\n    <tr>\n      <th>9</th>\n      <td>76ba050e64ad100b856f0eaabd8f539d5c7dd185</td>\n      <td>15</td>\n      <td>PA</td>\n      <td>17</td>\n      <td>M</td>\n      <td>3</td>\n      <td>2</td>\n      <td>2</td>\n      <td>0</td>\n      <td>2</td>\n      <td>...</td>\n      <td>100.0</td>\n      <td>580.0</td>\n      <td>B</td>\n      <td>C</td>\n      <td>B</td>\n      <td>A</td>\n      <td>A</td>\n      <td>A</td>\n      <td>NaN</td>\n      <td>A</td>\n    </tr>\n  </tbody>\n</table>\n<p>10 rows × 47 columns</p>\n</div>"
     },
     "metadata": {},
     "execution_count": 139
    }
   ],
   "source": [
    "\"\"\"\n",
    "Importando os dados de teste e salvando o id que será usado para submissão\n",
    "\"\"\"\n",
    "\n",
    "test = pd.read_csv('test.csv')\n",
    "test_id = test['NU_INSCRICAO']\n",
    "test.head(10)"
   ]
  },
  {
   "cell_type": "code",
   "execution_count": 140,
   "metadata": {},
   "outputs": [],
   "source": [
    "\"\"\"\n",
    "Excluindo dos dados de treinamento as colunas que não estão no test.csv\n",
    "\"\"\"\n",
    "\n",
    "used_columns = test.columns.tolist()\n",
    "used_columns.append('NU_NOTA_MT')\n",
    "\n",
    "data = data[used_columns]"
   ]
  },
  {
   "cell_type": "code",
   "execution_count": 141,
   "metadata": {},
   "outputs": [
    {
     "output_type": "stream",
     "name": "stdout",
     "text": "<class 'pandas.core.frame.DataFrame'>\nRangeIndex: 13730 entries, 0 to 13729\nData columns (total 48 columns):\nNU_INSCRICAO              13730 non-null object\nCO_UF_RESIDENCIA          13730 non-null int64\nSG_UF_RESIDENCIA          13730 non-null object\nNU_IDADE                  13730 non-null int64\nTP_SEXO                   13730 non-null object\nTP_COR_RACA               13730 non-null int64\nTP_NACIONALIDADE          13730 non-null int64\nTP_ST_CONCLUSAO           13730 non-null int64\nTP_ANO_CONCLUIU           13730 non-null int64\nTP_ESCOLA                 13730 non-null int64\nTP_ENSINO                 4282 non-null float64\nIN_TREINEIRO              13730 non-null int64\nTP_DEPENDENCIA_ADM_ESC    4282 non-null float64\nIN_BAIXA_VISAO            13730 non-null int64\nIN_CEGUEIRA               13730 non-null int64\nIN_SURDEZ                 13730 non-null int64\nIN_DISLEXIA               13730 non-null int64\nIN_DISCALCULIA            13730 non-null int64\nIN_SABATISTA              13730 non-null int64\nIN_GESTANTE               13730 non-null int64\nIN_IDOSO                  13730 non-null int64\nTP_PRESENCA_CN            13730 non-null int64\nTP_PRESENCA_CH            13730 non-null int64\nTP_PRESENCA_LC            13730 non-null int64\nCO_PROVA_CN               13730 non-null object\nCO_PROVA_CH               13730 non-null object\nCO_PROVA_LC               13730 non-null object\nCO_PROVA_MT               13730 non-null object\nNU_NOTA_CN                10341 non-null float64\nNU_NOTA_CH                10341 non-null float64\nNU_NOTA_LC                10133 non-null float64\nTP_LINGUA                 13730 non-null int64\nTP_STATUS_REDACAO         10133 non-null float64\nNU_NOTA_COMP1             10133 non-null float64\nNU_NOTA_COMP2             10133 non-null float64\nNU_NOTA_COMP3             10133 non-null float64\nNU_NOTA_COMP4             10133 non-null float64\nNU_NOTA_COMP5             10133 non-null float64\nNU_NOTA_REDACAO           10133 non-null float64\nQ001                      13730 non-null object\nQ002                      13730 non-null object\nQ006                      13730 non-null object\nQ024                      13730 non-null object\nQ025                      13730 non-null object\nQ026                      13730 non-null object\nQ027                      6357 non-null object\nQ047                      13730 non-null object\nNU_NOTA_MT                10133 non-null float64\ndtypes: float64(13), int64(20), object(15)\nmemory usage: 5.0+ MB\n"
    }
   ],
   "source": [
    "data.info()"
   ]
  },
  {
   "cell_type": "code",
   "execution_count": 142,
   "metadata": {},
   "outputs": [
    {
     "output_type": "execute_result",
     "data": {
      "text/plain": "  SG_UF_RESIDENCIA  NU_IDADE TP_SEXO  TP_COR_RACA  TP_NACIONALIDADE  \\\n0               RS        24       M            1                 1   \n1               CE        17       F            3                 1   \n2               CE        21       F            3                 1   \n3               RJ        25       F            0                 1   \n4               AM        28       M            2                 1   \n5               BA        18       F            1                 1   \n6               MT        18       F            3                 1   \n7               RS        18       F            1                 1   \n8               PE        16       F            3                 1   \n9               MG        24       M            4                 2   \n\n   TP_ST_CONCLUSAO  TP_ANO_CONCLUIU  TP_ESCOLA  TP_ENSINO  IN_TREINEIRO  ...  \\\n0                1                4          1        NaN             0  ...   \n1                2                0          2        1.0             0  ...   \n2                3                0          1        NaN             0  ...   \n3                1                9          1        NaN             0  ...   \n4                1                4          1        NaN             0  ...   \n5                1                1          1        NaN             0  ...   \n6                2                0          2        1.0             0  ...   \n7                1                1          1        NaN             0  ...   \n8                2                0          2        1.0             0  ...   \n9                4                0          1        NaN             0  ...   \n\n   NU_NOTA_REDACAO  Q001  Q002  Q006  Q024  Q025  Q026  Q027  Q047  NU_NOTA_MT  \n0            520.0     D     D     C     A     A     C     H     A       399.4  \n1            580.0     A     A     B     A     A     A   NaN     A       459.8  \n2              NaN     D     D     C     A     A     A   NaN     A         NaN  \n3              NaN     H     E     E     C     B     C     F     D         NaN  \n4              NaN     E     D     C     A     A     B     F     A         NaN  \n5            620.0     E     E     C     B     B     A   NaN     A       364.5  \n6            560.0     E     D     C     B     B     C     E     A       529.2  \n7            620.0     G     F     L     B     B     A   NaN     D       566.7  \n8            680.0     H     E     B     A     B     A   NaN     A       372.4  \n9              NaN     H     E     G     B     B     B     H     A         NaN  \n\n[10 rows x 46 columns]",
      "text/html": "<div>\n<style scoped>\n    .dataframe tbody tr th:only-of-type {\n        vertical-align: middle;\n    }\n\n    .dataframe tbody tr th {\n        vertical-align: top;\n    }\n\n    .dataframe thead th {\n        text-align: right;\n    }\n</style>\n<table border=\"1\" class=\"dataframe\">\n  <thead>\n    <tr style=\"text-align: right;\">\n      <th></th>\n      <th>SG_UF_RESIDENCIA</th>\n      <th>NU_IDADE</th>\n      <th>TP_SEXO</th>\n      <th>TP_COR_RACA</th>\n      <th>TP_NACIONALIDADE</th>\n      <th>TP_ST_CONCLUSAO</th>\n      <th>TP_ANO_CONCLUIU</th>\n      <th>TP_ESCOLA</th>\n      <th>TP_ENSINO</th>\n      <th>IN_TREINEIRO</th>\n      <th>...</th>\n      <th>NU_NOTA_REDACAO</th>\n      <th>Q001</th>\n      <th>Q002</th>\n      <th>Q006</th>\n      <th>Q024</th>\n      <th>Q025</th>\n      <th>Q026</th>\n      <th>Q027</th>\n      <th>Q047</th>\n      <th>NU_NOTA_MT</th>\n    </tr>\n  </thead>\n  <tbody>\n    <tr>\n      <th>0</th>\n      <td>RS</td>\n      <td>24</td>\n      <td>M</td>\n      <td>1</td>\n      <td>1</td>\n      <td>1</td>\n      <td>4</td>\n      <td>1</td>\n      <td>NaN</td>\n      <td>0</td>\n      <td>...</td>\n      <td>520.0</td>\n      <td>D</td>\n      <td>D</td>\n      <td>C</td>\n      <td>A</td>\n      <td>A</td>\n      <td>C</td>\n      <td>H</td>\n      <td>A</td>\n      <td>399.4</td>\n    </tr>\n    <tr>\n      <th>1</th>\n      <td>CE</td>\n      <td>17</td>\n      <td>F</td>\n      <td>3</td>\n      <td>1</td>\n      <td>2</td>\n      <td>0</td>\n      <td>2</td>\n      <td>1.0</td>\n      <td>0</td>\n      <td>...</td>\n      <td>580.0</td>\n      <td>A</td>\n      <td>A</td>\n      <td>B</td>\n      <td>A</td>\n      <td>A</td>\n      <td>A</td>\n      <td>NaN</td>\n      <td>A</td>\n      <td>459.8</td>\n    </tr>\n    <tr>\n      <th>2</th>\n      <td>CE</td>\n      <td>21</td>\n      <td>F</td>\n      <td>3</td>\n      <td>1</td>\n      <td>3</td>\n      <td>0</td>\n      <td>1</td>\n      <td>NaN</td>\n      <td>0</td>\n      <td>...</td>\n      <td>NaN</td>\n      <td>D</td>\n      <td>D</td>\n      <td>C</td>\n      <td>A</td>\n      <td>A</td>\n      <td>A</td>\n      <td>NaN</td>\n      <td>A</td>\n      <td>NaN</td>\n    </tr>\n    <tr>\n      <th>3</th>\n      <td>RJ</td>\n      <td>25</td>\n      <td>F</td>\n      <td>0</td>\n      <td>1</td>\n      <td>1</td>\n      <td>9</td>\n      <td>1</td>\n      <td>NaN</td>\n      <td>0</td>\n      <td>...</td>\n      <td>NaN</td>\n      <td>H</td>\n      <td>E</td>\n      <td>E</td>\n      <td>C</td>\n      <td>B</td>\n      <td>C</td>\n      <td>F</td>\n      <td>D</td>\n      <td>NaN</td>\n    </tr>\n    <tr>\n      <th>4</th>\n      <td>AM</td>\n      <td>28</td>\n      <td>M</td>\n      <td>2</td>\n      <td>1</td>\n      <td>1</td>\n      <td>4</td>\n      <td>1</td>\n      <td>NaN</td>\n      <td>0</td>\n      <td>...</td>\n      <td>NaN</td>\n      <td>E</td>\n      <td>D</td>\n      <td>C</td>\n      <td>A</td>\n      <td>A</td>\n      <td>B</td>\n      <td>F</td>\n      <td>A</td>\n      <td>NaN</td>\n    </tr>\n    <tr>\n      <th>5</th>\n      <td>BA</td>\n      <td>18</td>\n      <td>F</td>\n      <td>1</td>\n      <td>1</td>\n      <td>1</td>\n      <td>1</td>\n      <td>1</td>\n      <td>NaN</td>\n      <td>0</td>\n      <td>...</td>\n      <td>620.0</td>\n      <td>E</td>\n      <td>E</td>\n      <td>C</td>\n      <td>B</td>\n      <td>B</td>\n      <td>A</td>\n      <td>NaN</td>\n      <td>A</td>\n      <td>364.5</td>\n    </tr>\n    <tr>\n      <th>6</th>\n      <td>MT</td>\n      <td>18</td>\n      <td>F</td>\n      <td>3</td>\n      <td>1</td>\n      <td>2</td>\n      <td>0</td>\n      <td>2</td>\n      <td>1.0</td>\n      <td>0</td>\n      <td>...</td>\n      <td>560.0</td>\n      <td>E</td>\n      <td>D</td>\n      <td>C</td>\n      <td>B</td>\n      <td>B</td>\n      <td>C</td>\n      <td>E</td>\n      <td>A</td>\n      <td>529.2</td>\n    </tr>\n    <tr>\n      <th>7</th>\n      <td>RS</td>\n      <td>18</td>\n      <td>F</td>\n      <td>1</td>\n      <td>1</td>\n      <td>1</td>\n      <td>1</td>\n      <td>1</td>\n      <td>NaN</td>\n      <td>0</td>\n      <td>...</td>\n      <td>620.0</td>\n      <td>G</td>\n      <td>F</td>\n      <td>L</td>\n      <td>B</td>\n      <td>B</td>\n      <td>A</td>\n      <td>NaN</td>\n      <td>D</td>\n      <td>566.7</td>\n    </tr>\n    <tr>\n      <th>8</th>\n      <td>PE</td>\n      <td>16</td>\n      <td>F</td>\n      <td>3</td>\n      <td>1</td>\n      <td>2</td>\n      <td>0</td>\n      <td>2</td>\n      <td>1.0</td>\n      <td>0</td>\n      <td>...</td>\n      <td>680.0</td>\n      <td>H</td>\n      <td>E</td>\n      <td>B</td>\n      <td>A</td>\n      <td>B</td>\n      <td>A</td>\n      <td>NaN</td>\n      <td>A</td>\n      <td>372.4</td>\n    </tr>\n    <tr>\n      <th>9</th>\n      <td>MG</td>\n      <td>24</td>\n      <td>M</td>\n      <td>4</td>\n      <td>2</td>\n      <td>4</td>\n      <td>0</td>\n      <td>1</td>\n      <td>NaN</td>\n      <td>0</td>\n      <td>...</td>\n      <td>NaN</td>\n      <td>H</td>\n      <td>E</td>\n      <td>G</td>\n      <td>B</td>\n      <td>B</td>\n      <td>B</td>\n      <td>H</td>\n      <td>A</td>\n      <td>NaN</td>\n    </tr>\n  </tbody>\n</table>\n<p>10 rows × 46 columns</p>\n</div>"
     },
     "metadata": {},
     "execution_count": 142
    }
   ],
   "source": [
    "\"\"\" Excluindo itens referentes a códigos\n",
    "\"\"\"\n",
    "\n",
    "data.drop(columns=['NU_INSCRICAO', 'CO_UF_RESIDENCIA'], inplace=True)\n",
    "test.drop(columns=['NU_INSCRICAO', 'CO_UF_RESIDENCIA'], inplace=True)\n",
    "data.head(10)"
   ]
  },
  {
   "cell_type": "code",
   "execution_count": 143,
   "metadata": {},
   "outputs": [],
   "source": [
    "\"\"\"\n",
    "Dropando colunas com número de valores nulos maior que um dado limiar\n",
    "\"\"\"\n",
    "\n",
    "threshold = 0.6\n",
    "\n",
    "data = data[data.columns[data.isnull().mean() < threshold]]\n",
    "test = test[test.columns[test.isnull().mean() < threshold]]"
   ]
  },
  {
   "cell_type": "code",
   "execution_count": 144,
   "metadata": {},
   "outputs": [],
   "source": [
    "\"\"\"\n",
    "Dropando linhas com número de valores nulos maior que um dado limiar\n",
    "\"\"\"\n",
    "\n",
    "data = data.loc[data.isnull().mean(axis=1) < threshold]\n",
    "test = test.loc[test.isnull().mean(axis=1) < threshold]"
   ]
  },
  {
   "cell_type": "code",
   "execution_count": 145,
   "metadata": {},
   "outputs": [],
   "source": [
    "\"\"\"\n",
    "Dropando colunas com variância muito baixa\n",
    "\"\"\"\n",
    "\n",
    "data.drop(columns=data.std()[data.std() < 0.2].index.values, inplace=True)\n",
    "test.drop(columns=test.std()[test.std() < 0.2].index.values, inplace=True)"
   ]
  },
  {
   "cell_type": "code",
   "execution_count": 146,
   "metadata": {},
   "outputs": [],
   "source": [
    "\"\"\"\n",
    "Imputando dados faltantes com 0\n",
    "\"\"\"\n",
    "\n",
    "data.fillna(0, inplace=True)\n",
    "test.fillna(0, inplace=True)"
   ]
  },
  {
   "cell_type": "code",
   "execution_count": 147,
   "metadata": {},
   "outputs": [],
   "source": [
    "\"\"\"\n",
    "Criando uma característica básica para discretização da idade\n",
    "\"\"\"\n",
    "\n",
    "data['GRUPO_IDADE'] = pd.cut(data['NU_IDADE'], bins=[0,21,30,100], labels=[\"Adolescente\", \"Jovem\", \"Adulto\"])\n",
    "test['GRUPO_IDADE'] = pd.cut(test['NU_IDADE'], bins=[0,21,30,100], labels=[\"Adolescente\", \"Jovem\", \"Adulto\"])"
   ]
  },
  {
   "cell_type": "code",
   "execution_count": 148,
   "metadata": {},
   "outputs": [
    {
     "output_type": "execute_result",
     "data": {
      "text/plain": "  SG_UF_RESIDENCIA  NU_IDADE TP_SEXO  TP_COR_RACA  TP_NACIONALIDADE  \\\n0               RS        24       M            1                 1   \n1               CE        17       F            3                 1   \n2               CE        21       F            3                 1   \n3               RJ        25       F            0                 1   \n4               AM        28       M            2                 1   \n5               BA        18       F            1                 1   \n6               MT        18       F            3                 1   \n7               RS        18       F            1                 1   \n8               PE        16       F            3                 1   \n9               MG        24       M            4                 2   \n\n   TP_ST_CONCLUSAO  TP_ANO_CONCLUIU  TP_ESCOLA  IN_TREINEIRO  TP_PRESENCA_CN  \\\n0                1                4          1             0               1   \n1                2                0          2             0               1   \n2                3                0          1             0               0   \n3                1                9          1             0               0   \n4                1                4          1             0               0   \n5                1                1          1             0               1   \n6                2                0          2             0               1   \n7                1                1          1             0               1   \n8                2                0          2             0               1   \n9                4                0          1             0               0   \n\n   ...  Q001  Q002 Q006 Q024 Q025 Q026  Q027  Q047  NU_NOTA_MT  GRUPO_IDADE  \n0  ...     D     D    C    A    A    C     H     A       399.4        Jovem  \n1  ...     A     A    B    A    A    A     0     A       459.8  Adolescente  \n2  ...     D     D    C    A    A    A     0     A         0.0  Adolescente  \n3  ...     H     E    E    C    B    C     F     D         0.0        Jovem  \n4  ...     E     D    C    A    A    B     F     A         0.0        Jovem  \n5  ...     E     E    C    B    B    A     0     A       364.5  Adolescente  \n6  ...     E     D    C    B    B    C     E     A       529.2  Adolescente  \n7  ...     G     F    L    B    B    A     0     D       566.7  Adolescente  \n8  ...     H     E    B    A    B    A     0     A       372.4  Adolescente  \n9  ...     H     E    G    B    B    B     H     A         0.0        Jovem  \n\n[10 rows x 37 columns]",
      "text/html": "<div>\n<style scoped>\n    .dataframe tbody tr th:only-of-type {\n        vertical-align: middle;\n    }\n\n    .dataframe tbody tr th {\n        vertical-align: top;\n    }\n\n    .dataframe thead th {\n        text-align: right;\n    }\n</style>\n<table border=\"1\" class=\"dataframe\">\n  <thead>\n    <tr style=\"text-align: right;\">\n      <th></th>\n      <th>SG_UF_RESIDENCIA</th>\n      <th>NU_IDADE</th>\n      <th>TP_SEXO</th>\n      <th>TP_COR_RACA</th>\n      <th>TP_NACIONALIDADE</th>\n      <th>TP_ST_CONCLUSAO</th>\n      <th>TP_ANO_CONCLUIU</th>\n      <th>TP_ESCOLA</th>\n      <th>IN_TREINEIRO</th>\n      <th>TP_PRESENCA_CN</th>\n      <th>...</th>\n      <th>Q001</th>\n      <th>Q002</th>\n      <th>Q006</th>\n      <th>Q024</th>\n      <th>Q025</th>\n      <th>Q026</th>\n      <th>Q027</th>\n      <th>Q047</th>\n      <th>NU_NOTA_MT</th>\n      <th>GRUPO_IDADE</th>\n    </tr>\n  </thead>\n  <tbody>\n    <tr>\n      <th>0</th>\n      <td>RS</td>\n      <td>24</td>\n      <td>M</td>\n      <td>1</td>\n      <td>1</td>\n      <td>1</td>\n      <td>4</td>\n      <td>1</td>\n      <td>0</td>\n      <td>1</td>\n      <td>...</td>\n      <td>D</td>\n      <td>D</td>\n      <td>C</td>\n      <td>A</td>\n      <td>A</td>\n      <td>C</td>\n      <td>H</td>\n      <td>A</td>\n      <td>399.4</td>\n      <td>Jovem</td>\n    </tr>\n    <tr>\n      <th>1</th>\n      <td>CE</td>\n      <td>17</td>\n      <td>F</td>\n      <td>3</td>\n      <td>1</td>\n      <td>2</td>\n      <td>0</td>\n      <td>2</td>\n      <td>0</td>\n      <td>1</td>\n      <td>...</td>\n      <td>A</td>\n      <td>A</td>\n      <td>B</td>\n      <td>A</td>\n      <td>A</td>\n      <td>A</td>\n      <td>0</td>\n      <td>A</td>\n      <td>459.8</td>\n      <td>Adolescente</td>\n    </tr>\n    <tr>\n      <th>2</th>\n      <td>CE</td>\n      <td>21</td>\n      <td>F</td>\n      <td>3</td>\n      <td>1</td>\n      <td>3</td>\n      <td>0</td>\n      <td>1</td>\n      <td>0</td>\n      <td>0</td>\n      <td>...</td>\n      <td>D</td>\n      <td>D</td>\n      <td>C</td>\n      <td>A</td>\n      <td>A</td>\n      <td>A</td>\n      <td>0</td>\n      <td>A</td>\n      <td>0.0</td>\n      <td>Adolescente</td>\n    </tr>\n    <tr>\n      <th>3</th>\n      <td>RJ</td>\n      <td>25</td>\n      <td>F</td>\n      <td>0</td>\n      <td>1</td>\n      <td>1</td>\n      <td>9</td>\n      <td>1</td>\n      <td>0</td>\n      <td>0</td>\n      <td>...</td>\n      <td>H</td>\n      <td>E</td>\n      <td>E</td>\n      <td>C</td>\n      <td>B</td>\n      <td>C</td>\n      <td>F</td>\n      <td>D</td>\n      <td>0.0</td>\n      <td>Jovem</td>\n    </tr>\n    <tr>\n      <th>4</th>\n      <td>AM</td>\n      <td>28</td>\n      <td>M</td>\n      <td>2</td>\n      <td>1</td>\n      <td>1</td>\n      <td>4</td>\n      <td>1</td>\n      <td>0</td>\n      <td>0</td>\n      <td>...</td>\n      <td>E</td>\n      <td>D</td>\n      <td>C</td>\n      <td>A</td>\n      <td>A</td>\n      <td>B</td>\n      <td>F</td>\n      <td>A</td>\n      <td>0.0</td>\n      <td>Jovem</td>\n    </tr>\n    <tr>\n      <th>5</th>\n      <td>BA</td>\n      <td>18</td>\n      <td>F</td>\n      <td>1</td>\n      <td>1</td>\n      <td>1</td>\n      <td>1</td>\n      <td>1</td>\n      <td>0</td>\n      <td>1</td>\n      <td>...</td>\n      <td>E</td>\n      <td>E</td>\n      <td>C</td>\n      <td>B</td>\n      <td>B</td>\n      <td>A</td>\n      <td>0</td>\n      <td>A</td>\n      <td>364.5</td>\n      <td>Adolescente</td>\n    </tr>\n    <tr>\n      <th>6</th>\n      <td>MT</td>\n      <td>18</td>\n      <td>F</td>\n      <td>3</td>\n      <td>1</td>\n      <td>2</td>\n      <td>0</td>\n      <td>2</td>\n      <td>0</td>\n      <td>1</td>\n      <td>...</td>\n      <td>E</td>\n      <td>D</td>\n      <td>C</td>\n      <td>B</td>\n      <td>B</td>\n      <td>C</td>\n      <td>E</td>\n      <td>A</td>\n      <td>529.2</td>\n      <td>Adolescente</td>\n    </tr>\n    <tr>\n      <th>7</th>\n      <td>RS</td>\n      <td>18</td>\n      <td>F</td>\n      <td>1</td>\n      <td>1</td>\n      <td>1</td>\n      <td>1</td>\n      <td>1</td>\n      <td>0</td>\n      <td>1</td>\n      <td>...</td>\n      <td>G</td>\n      <td>F</td>\n      <td>L</td>\n      <td>B</td>\n      <td>B</td>\n      <td>A</td>\n      <td>0</td>\n      <td>D</td>\n      <td>566.7</td>\n      <td>Adolescente</td>\n    </tr>\n    <tr>\n      <th>8</th>\n      <td>PE</td>\n      <td>16</td>\n      <td>F</td>\n      <td>3</td>\n      <td>1</td>\n      <td>2</td>\n      <td>0</td>\n      <td>2</td>\n      <td>0</td>\n      <td>1</td>\n      <td>...</td>\n      <td>H</td>\n      <td>E</td>\n      <td>B</td>\n      <td>A</td>\n      <td>B</td>\n      <td>A</td>\n      <td>0</td>\n      <td>A</td>\n      <td>372.4</td>\n      <td>Adolescente</td>\n    </tr>\n    <tr>\n      <th>9</th>\n      <td>MG</td>\n      <td>24</td>\n      <td>M</td>\n      <td>4</td>\n      <td>2</td>\n      <td>4</td>\n      <td>0</td>\n      <td>1</td>\n      <td>0</td>\n      <td>0</td>\n      <td>...</td>\n      <td>H</td>\n      <td>E</td>\n      <td>G</td>\n      <td>B</td>\n      <td>B</td>\n      <td>B</td>\n      <td>H</td>\n      <td>A</td>\n      <td>0.0</td>\n      <td>Jovem</td>\n    </tr>\n  </tbody>\n</table>\n<p>10 rows × 37 columns</p>\n</div>"
     },
     "metadata": {},
     "execution_count": 148
    }
   ],
   "source": [
    "data.head(10)"
   ]
  },
  {
   "cell_type": "code",
   "execution_count": 149,
   "metadata": {},
   "outputs": [
    {
     "output_type": "execute_result",
     "data": {
      "text/plain": "NU_IDADE            -0.240874\nTP_COR_RACA         -0.070239\nTP_NACIONALIDADE    -0.033130\nTP_ST_CONCLUSAO      0.023736\nTP_ANO_CONCLUIU     -0.191553\nTP_ESCOLA            0.189084\nIN_TREINEIRO         0.078804\nTP_PRESENCA_CN       0.874764\nTP_PRESENCA_CH       0.874764\nTP_PRESENCA_LC       0.923641\nNU_NOTA_CN           0.907039\nNU_NOTA_CH           0.903608\nNU_NOTA_LC           0.943954\nTP_LINGUA           -0.111428\nTP_STATUS_REDACAO    0.564273\nNU_NOTA_COMP1        0.882746\nNU_NOTA_COMP2        0.862709\nNU_NOTA_COMP3        0.854946\nNU_NOTA_COMP4        0.866827\nNU_NOTA_COMP5        0.722275\nNU_NOTA_REDACAO      0.875929\nNU_NOTA_MT           1.000000\nName: NU_NOTA_MT, dtype: float64"
     },
     "metadata": {},
     "execution_count": 149
    }
   ],
   "source": [
    "\"\"\"\n",
    "Analisando características mais correlacionadas com a label\n",
    "\"\"\"\n",
    "\n",
    "data.corr()['NU_NOTA_MT']"
   ]
  },
  {
   "cell_type": "code",
   "execution_count": 150,
   "metadata": {},
   "outputs": [],
   "source": [
    "\"\"\"\n",
    "Criando característica de discretização das notas\n",
    "\"\"\"\n",
    "\n",
    "data['CATEGORIA_LC'] = pd.cut(data['NU_NOTA_LC'], bins=[0,400,600,1000], labels=[\"Baixa\", \"Regular\", \"Alta\"])\n",
    "data['CATEGORIA_CN'] = pd.cut(data['NU_NOTA_CN'], bins=[0,400,600,1000], labels=[\"Baixa\", \"Regular\", \"Alta\"])\n",
    "data['CATEGORIA_CH'] = pd.cut(data['NU_NOTA_CH'], bins=[0,400,600,1000], labels=[\"Baixa\", \"Regular\", \"Alta\"])\n",
    "data['CATEGORIA_REDACAO'] = pd.cut(data['NU_NOTA_REDACAO'], bins=[0,400,600,1000], labels=[\"Baixa\", \"Regular\", \"Alta\"])"
   ]
  },
  {
   "cell_type": "code",
   "execution_count": 151,
   "metadata": {},
   "outputs": [],
   "source": [
    "\"\"\"\n",
    "Reproduzindo na base de teste\n",
    "\"\"\"\n",
    "\n",
    "test['CATEGORIA_LC'] = pd.cut(test['NU_NOTA_LC'], bins=[0,400,600,1000], labels=[\"Baixa\", \"Regular\", \"Alta\"])\n",
    "test['CATEGORIA_CN'] = pd.cut(test['NU_NOTA_CN'], bins=[0,400,600,1000], labels=[\"Baixa\", \"Regular\", \"Alta\"])\n",
    "test['CATEGORIA_CH'] = pd.cut(test['NU_NOTA_CH'], bins=[0,400,600,1000], labels=[\"Baixa\", \"Regular\", \"Alta\"])\n",
    "test['CATEGORIA_REDACAO'] = pd.cut(test['NU_NOTA_REDACAO'], bins=[0,400,600,1000], labels=[\"Baixa\", \"Regular\", \"Alta\"])"
   ]
  },
  {
   "cell_type": "code",
   "execution_count": 152,
   "metadata": {},
   "outputs": [],
   "source": [
    "\"\"\"\n",
    "Criando uma nova variável baseando-me nas variáveis mais correlacionadas com o target\n",
    "\"\"\"\n",
    "\n",
    "data['MEAN_LC_CH_CN'] = data[['NU_NOTA_LC', 'NU_NOTA_CH', 'NU_NOTA_CN']].mean(axis=1)"
   ]
  },
  {
   "cell_type": "code",
   "execution_count": 153,
   "metadata": {},
   "outputs": [],
   "source": [
    "\"\"\"\n",
    "Reproduzindo na base de teste\n",
    "\"\"\"\n",
    "\n",
    "test['MEAN_LC_CH_CN'] = test[['NU_NOTA_LC', 'NU_NOTA_CH', 'NU_NOTA_CN']].mean(axis=1)"
   ]
  },
  {
   "cell_type": "code",
   "execution_count": 154,
   "metadata": {},
   "outputs": [],
   "source": [
    "\"\"\"\n",
    "Criando característica que representa se o estudante compareceu nos dois dias\n",
    "\"\"\"\n",
    "\n",
    "data['PRESENCA'] = (data['TP_PRESENCA_CN'].apply(int) + data['TP_PRESENCA_LC'].apply(int)) > 1"
   ]
  },
  {
   "cell_type": "code",
   "execution_count": 155,
   "metadata": {},
   "outputs": [],
   "source": [
    "\"\"\"\n",
    "Reproduzindo na base de teste\n",
    "\"\"\"\n",
    "\n",
    "test['PRESENCA'] = (test['TP_PRESENCA_CN'].apply(int) + test['TP_PRESENCA_LC'].apply(int)) > 1"
   ]
  },
  {
   "cell_type": "code",
   "execution_count": 156,
   "metadata": {},
   "outputs": [],
   "source": [
    "\"\"\"\n",
    "Fazendo imputação dos valores faltantes de colunas categóricas com o item que mais se repete (treino)\n",
    "\"\"\"\n",
    "\n",
    "remaining_columns_train = data.columns[data.isna().mean() > 0]\n",
    "\n",
    "for column in remaining_columns_train:\n",
    "    data[column].fillna(data[column].value_counts().idxmax(), inplace=True)"
   ]
  },
  {
   "cell_type": "code",
   "execution_count": 157,
   "metadata": {},
   "outputs": [],
   "source": [
    "\"\"\"\n",
    "Fazendo imputação dos valores faltantes de colunas categóricas com o item que mais se repete (teste)\n",
    "\"\"\"\n",
    "\n",
    "remaining_columns_test = test.columns[test.isna().mean() > 0]\n",
    "\n",
    "for column in remaining_columns_test:\n",
    "    test[column].fillna(test[column].value_counts().idxmax(), inplace=True)"
   ]
  },
  {
   "cell_type": "code",
   "execution_count": 159,
   "metadata": {},
   "outputs": [
    {
     "output_type": "execute_result",
     "data": {
      "text/plain": "{'MEAN_LC_CH_CN',\n 'NU_IDADE',\n 'NU_NOTA_CH',\n 'NU_NOTA_CN',\n 'NU_NOTA_COMP1',\n 'NU_NOTA_COMP2',\n 'NU_NOTA_COMP3',\n 'NU_NOTA_COMP4',\n 'NU_NOTA_COMP5',\n 'NU_NOTA_LC',\n 'NU_NOTA_MT',\n 'NU_NOTA_REDACAO'}"
     },
     "metadata": {},
     "execution_count": 159
    }
   ],
   "source": [
    "\"\"\"\n",
    "Separando colunas para aplicação da técnica de encoding\n",
    "\"\"\"\n",
    "\n",
    "encode = ['SG_UF_RESIDENCIA', 'TP_SEXO', 'CO_PROVA_CN', 'CO_PROVA_CH', 'CO_PROVA_LC', 'CO_PROVA_MT', 'Q001', 'Q002', 'Q006', 'Q024', 'Q025', 'Q026', 'Q027', 'Q047', 'GRUPO_IDADE', 'TP_ANO_CONCLUIU', 'TP_COR_RACA', 'TP_ESCOLA', 'TP_LINGUA', 'TP_NACIONALIDADE', 'TP_PRESENCA_CH', 'TP_PRESENCA_CN', 'TP_PRESENCA_LC', 'TP_STATUS_REDACAO', 'TP_ST_CONCLUSAO', 'IN_TREINEIRO', 'CATEGORIA_LC', 'CATEGORIA_CN', 'CATEGORIA_CH', 'CATEGORIA_REDACAO', 'PRESENCA']\n",
    "\n",
    "set(data.columns) - set(encode)"
   ]
  },
  {
   "cell_type": "code",
   "execution_count": 160,
   "metadata": {},
   "outputs": [
    {
     "output_type": "execute_result",
     "data": {
      "text/plain": "Pipeline(steps=[('encoder',\n                 TargetEncoder(cols=['SG_UF_RESIDENCIA', 'TP_SEXO',\n                                     'CO_PROVA_CN', 'CO_PROVA_CH',\n                                     'CO_PROVA_LC', 'CO_PROVA_MT', 'Q001',\n                                     'Q002', 'Q006', 'Q024', 'Q025', 'Q026',\n                                     'Q027', 'Q047', 'GRUPO_IDADE',\n                                     'TP_ANO_CONCLUIU', 'TP_COR_RACA',\n                                     'TP_ESCOLA', 'TP_LINGUA',\n                                     'TP_NACIONALIDADE', 'TP_PRESENCA_CH',\n                                     'TP_PRESENCA_CN', 'TP_PRESENCA_LC',\n                                     'TP_STATUS_REDACAO', 'T...\n                              colsample_bytree=1, gamma=0, gpu_id=-1,\n                              importance_type='gain',\n                              interaction_constraints='',\n                              learning_rate=0.300000012, max_delta_step=0,\n                              max_depth=6, min_child_weight=1, missing=nan,\n                              monotone_constraints='()', n_estimators=100,\n                              n_jobs=0, num_parallel_tree=1, random_state=0,\n                              reg_alpha=0, reg_lambda=1, scale_pos_weight=1,\n                              subsample=1, tree_method='exact',\n                              validate_parameters=1, verbosity=None))])"
     },
     "metadata": {},
     "execution_count": 160
    }
   ],
   "source": [
    "\"\"\"\n",
    "Criando pipeline básico para modularização do treinamento\n",
    "\"\"\"\n",
    "\n",
    "import category_encoders as ce\n",
    "\n",
    "from sklearn.pipeline import Pipeline\n",
    "from sklearn.ensemble import RandomForestRegressor\n",
    "from xgboost import XGBRegressor\n",
    "\n",
    "model = Pipeline([('encoder', ce.TargetEncoder(cols=encode)), \n",
    "                ('clf', XGBRegressor())])\n",
    "\n",
    "model.fit(data.drop(columns=['NU_NOTA_MT']), data['NU_NOTA_MT'])"
   ]
  },
  {
   "cell_type": "code",
   "execution_count": 161,
   "metadata": {},
   "outputs": [
    {
     "output_type": "execute_result",
     "data": {
      "text/plain": "array([438.7329   , 446.60742  , 579.4708   , ..., 688.7492   ,\n       428.96732  ,   0.9702829], dtype=float32)"
     },
     "metadata": {},
     "execution_count": 161
    }
   ],
   "source": [
    "\"\"\"\n",
    "Predizendo notas do csv de teste\n",
    "\"\"\"\n",
    "\n",
    "predictions = model.predict(test)\n",
    "predictions"
   ]
  },
  {
   "cell_type": "code",
   "execution_count": 162,
   "metadata": {},
   "outputs": [],
   "source": [
    "\"\"\"\n",
    "Preparando arquivo de submissão\n",
    "\n",
    "Obs: valores muito baixos são convertidos para 0, já que não acontecem em notas reais\n",
    "\"\"\"\n",
    "\n",
    "submission = pd.DataFrame({'NU_INSCRICAO': test_id, 'NU_NOTA_MT': predictions})\n",
    "submission['NU_NOTA_MT'] = submission['NU_NOTA_MT'].apply(lambda x: 0 if x < 100 else x)\n",
    "submission.to_csv('answer.csv', index=False)"
   ]
  }
 ],
 "metadata": {
  "language_info": {
   "codemirror_mode": {
    "name": "ipython",
    "version": 3
   },
   "file_extension": ".py",
   "mimetype": "text/x-python",
   "name": "python",
   "nbconvert_exporter": "python",
   "pygments_lexer": "ipython3",
   "version": "3.6.9-final"
  },
  "orig_nbformat": 2,
  "kernelspec": {
   "name": "python37564bitcodenationvenvc90997419e5a4d9b948534d3d593ba8e",
   "display_name": "Python 3.7.5 64-bit ('codenation': venv)"
  }
 },
 "nbformat": 4,
 "nbformat_minor": 2
}