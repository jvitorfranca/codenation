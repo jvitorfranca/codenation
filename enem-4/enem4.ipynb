{
 "cells": [
  {
   "cell_type": "code",
   "execution_count": 177,
   "metadata": {},
   "outputs": [],
   "source": [
    "import pandas as pd"
   ]
  },
  {
   "cell_type": "code",
   "execution_count": 178,
   "metadata": {},
   "outputs": [
    {
     "output_type": "execute_result",
     "data": {
      "text/plain": "   Unnamed: 0                              NU_INSCRICAO  NU_ANO  \\\n0           1  ed50e8aaa58e7a806c337585efee9ca41f1eb1ad    2016   \n1           2  2c3acac4b33ec2b195d77e7c04a2d75727fad723    2016   \n2           3  f4545f8ccb9ff5c8aad7d32951b3f251a26e6568    2016   \n3           4  3d6ec248fef899c414e77f82d5c6d2bffbeaf7fe    2016   \n4           5  bf896ac8d3ecadd6dba1dfbf50110afcbf5d3268    2016   \n5           6  a37c99ec251d4f6e8ddbeabadf1c87fdbfddc4d1    2016   \n6           7  63b4e128e9ffe8ab27f5d093db1976ef4f353e0a    2016   \n7           8  2eb189d4912f64b19d1967e8e84b6141aba18770    2016   \n8           9  5822cb43e0800429be2084b3f86a63aaa73fa66c    2016   \n9          10  94f7e277f87cd58e10a45da4ad5dd168651cf3ef    2016   \n\n   CO_MUNICIPIO_RESIDENCIA NO_MUNICIPIO_RESIDENCIA  CO_UF_RESIDENCIA  \\\n0                  4314902            Porto Alegre                43   \n1                  2304707                  Granja                23   \n2                  2304400               Fortaleza                23   \n3                  3304557          Rio de Janeiro                33   \n4                  1302603                  Manaus                13   \n5                  2902005                 Aracatu                29   \n6                  5102637   Campo Novo do Parecis                51   \n7                  4301602                    Bagé                43   \n8                  2601904                Bezerros                26   \n9                  3152501            Pouso Alegre                31   \n\n  SG_UF_RESIDENCIA  NU_IDADE TP_SEXO  TP_ESTADO_CIVIL  ...  Q041  Q042  Q043  \\\n0               RS        24       M              0.0  ...   5.0     A     A   \n1               CE        17       F              0.0  ...   NaN     A     A   \n2               CE        21       F              0.0  ...   NaN     A     A   \n3               RJ        25       F              0.0  ...   5.0     C     A   \n4               AM        28       M              0.0  ...   NaN     A     A   \n5               BA        18       F              0.0  ...   NaN     A     A   \n6               MT        18       F              0.0  ...   0.0     A     A   \n7               RS        18       F              0.0  ...   NaN     C     A   \n8               PE        16       F              0.0  ...   NaN     D     A   \n9               MG        24       M              0.0  ...   NaN     A     A   \n\n  Q044  Q045 Q046  Q047  Q048  Q049  Q050  \n0    A     A    A     A     A     B     D  \n1    C     A    B     A     A     C     A  \n2    A     A    C     A     A     B     A  \n3    A     A    A     D     A     A     A  \n4    A     A    A     A     A     A     A  \n5    A     A    A     A     A     A     A  \n6    A     B    B     A     A     A     A  \n7    A     A    A     D     A     A     A  \n8    A     A    B     A     D     B     A  \n9    A     B    D     A     B     B     C  \n\n[10 rows x 167 columns]",
      "text/html": "<div>\n<style scoped>\n    .dataframe tbody tr th:only-of-type {\n        vertical-align: middle;\n    }\n\n    .dataframe tbody tr th {\n        vertical-align: top;\n    }\n\n    .dataframe thead th {\n        text-align: right;\n    }\n</style>\n<table border=\"1\" class=\"dataframe\">\n  <thead>\n    <tr style=\"text-align: right;\">\n      <th></th>\n      <th>Unnamed: 0</th>\n      <th>NU_INSCRICAO</th>\n      <th>NU_ANO</th>\n      <th>CO_MUNICIPIO_RESIDENCIA</th>\n      <th>NO_MUNICIPIO_RESIDENCIA</th>\n      <th>CO_UF_RESIDENCIA</th>\n      <th>SG_UF_RESIDENCIA</th>\n      <th>NU_IDADE</th>\n      <th>TP_SEXO</th>\n      <th>TP_ESTADO_CIVIL</th>\n      <th>...</th>\n      <th>Q041</th>\n      <th>Q042</th>\n      <th>Q043</th>\n      <th>Q044</th>\n      <th>Q045</th>\n      <th>Q046</th>\n      <th>Q047</th>\n      <th>Q048</th>\n      <th>Q049</th>\n      <th>Q050</th>\n    </tr>\n  </thead>\n  <tbody>\n    <tr>\n      <th>0</th>\n      <td>1</td>\n      <td>ed50e8aaa58e7a806c337585efee9ca41f1eb1ad</td>\n      <td>2016</td>\n      <td>4314902</td>\n      <td>Porto Alegre</td>\n      <td>43</td>\n      <td>RS</td>\n      <td>24</td>\n      <td>M</td>\n      <td>0.0</td>\n      <td>...</td>\n      <td>5.0</td>\n      <td>A</td>\n      <td>A</td>\n      <td>A</td>\n      <td>A</td>\n      <td>A</td>\n      <td>A</td>\n      <td>A</td>\n      <td>B</td>\n      <td>D</td>\n    </tr>\n    <tr>\n      <th>1</th>\n      <td>2</td>\n      <td>2c3acac4b33ec2b195d77e7c04a2d75727fad723</td>\n      <td>2016</td>\n      <td>2304707</td>\n      <td>Granja</td>\n      <td>23</td>\n      <td>CE</td>\n      <td>17</td>\n      <td>F</td>\n      <td>0.0</td>\n      <td>...</td>\n      <td>NaN</td>\n      <td>A</td>\n      <td>A</td>\n      <td>C</td>\n      <td>A</td>\n      <td>B</td>\n      <td>A</td>\n      <td>A</td>\n      <td>C</td>\n      <td>A</td>\n    </tr>\n    <tr>\n      <th>2</th>\n      <td>3</td>\n      <td>f4545f8ccb9ff5c8aad7d32951b3f251a26e6568</td>\n      <td>2016</td>\n      <td>2304400</td>\n      <td>Fortaleza</td>\n      <td>23</td>\n      <td>CE</td>\n      <td>21</td>\n      <td>F</td>\n      <td>0.0</td>\n      <td>...</td>\n      <td>NaN</td>\n      <td>A</td>\n      <td>A</td>\n      <td>A</td>\n      <td>A</td>\n      <td>C</td>\n      <td>A</td>\n      <td>A</td>\n      <td>B</td>\n      <td>A</td>\n    </tr>\n    <tr>\n      <th>3</th>\n      <td>4</td>\n      <td>3d6ec248fef899c414e77f82d5c6d2bffbeaf7fe</td>\n      <td>2016</td>\n      <td>3304557</td>\n      <td>Rio de Janeiro</td>\n      <td>33</td>\n      <td>RJ</td>\n      <td>25</td>\n      <td>F</td>\n      <td>0.0</td>\n      <td>...</td>\n      <td>5.0</td>\n      <td>C</td>\n      <td>A</td>\n      <td>A</td>\n      <td>A</td>\n      <td>A</td>\n      <td>D</td>\n      <td>A</td>\n      <td>A</td>\n      <td>A</td>\n    </tr>\n    <tr>\n      <th>4</th>\n      <td>5</td>\n      <td>bf896ac8d3ecadd6dba1dfbf50110afcbf5d3268</td>\n      <td>2016</td>\n      <td>1302603</td>\n      <td>Manaus</td>\n      <td>13</td>\n      <td>AM</td>\n      <td>28</td>\n      <td>M</td>\n      <td>0.0</td>\n      <td>...</td>\n      <td>NaN</td>\n      <td>A</td>\n      <td>A</td>\n      <td>A</td>\n      <td>A</td>\n      <td>A</td>\n      <td>A</td>\n      <td>A</td>\n      <td>A</td>\n      <td>A</td>\n    </tr>\n    <tr>\n      <th>5</th>\n      <td>6</td>\n      <td>a37c99ec251d4f6e8ddbeabadf1c87fdbfddc4d1</td>\n      <td>2016</td>\n      <td>2902005</td>\n      <td>Aracatu</td>\n      <td>29</td>\n      <td>BA</td>\n      <td>18</td>\n      <td>F</td>\n      <td>0.0</td>\n      <td>...</td>\n      <td>NaN</td>\n      <td>A</td>\n      <td>A</td>\n      <td>A</td>\n      <td>A</td>\n      <td>A</td>\n      <td>A</td>\n      <td>A</td>\n      <td>A</td>\n      <td>A</td>\n    </tr>\n    <tr>\n      <th>6</th>\n      <td>7</td>\n      <td>63b4e128e9ffe8ab27f5d093db1976ef4f353e0a</td>\n      <td>2016</td>\n      <td>5102637</td>\n      <td>Campo Novo do Parecis</td>\n      <td>51</td>\n      <td>MT</td>\n      <td>18</td>\n      <td>F</td>\n      <td>0.0</td>\n      <td>...</td>\n      <td>0.0</td>\n      <td>A</td>\n      <td>A</td>\n      <td>A</td>\n      <td>B</td>\n      <td>B</td>\n      <td>A</td>\n      <td>A</td>\n      <td>A</td>\n      <td>A</td>\n    </tr>\n    <tr>\n      <th>7</th>\n      <td>8</td>\n      <td>2eb189d4912f64b19d1967e8e84b6141aba18770</td>\n      <td>2016</td>\n      <td>4301602</td>\n      <td>Bagé</td>\n      <td>43</td>\n      <td>RS</td>\n      <td>18</td>\n      <td>F</td>\n      <td>0.0</td>\n      <td>...</td>\n      <td>NaN</td>\n      <td>C</td>\n      <td>A</td>\n      <td>A</td>\n      <td>A</td>\n      <td>A</td>\n      <td>D</td>\n      <td>A</td>\n      <td>A</td>\n      <td>A</td>\n    </tr>\n    <tr>\n      <th>8</th>\n      <td>9</td>\n      <td>5822cb43e0800429be2084b3f86a63aaa73fa66c</td>\n      <td>2016</td>\n      <td>2601904</td>\n      <td>Bezerros</td>\n      <td>26</td>\n      <td>PE</td>\n      <td>16</td>\n      <td>F</td>\n      <td>0.0</td>\n      <td>...</td>\n      <td>NaN</td>\n      <td>D</td>\n      <td>A</td>\n      <td>A</td>\n      <td>A</td>\n      <td>B</td>\n      <td>A</td>\n      <td>D</td>\n      <td>B</td>\n      <td>A</td>\n    </tr>\n    <tr>\n      <th>9</th>\n      <td>10</td>\n      <td>94f7e277f87cd58e10a45da4ad5dd168651cf3ef</td>\n      <td>2016</td>\n      <td>3152501</td>\n      <td>Pouso Alegre</td>\n      <td>31</td>\n      <td>MG</td>\n      <td>24</td>\n      <td>M</td>\n      <td>0.0</td>\n      <td>...</td>\n      <td>NaN</td>\n      <td>A</td>\n      <td>A</td>\n      <td>A</td>\n      <td>B</td>\n      <td>D</td>\n      <td>A</td>\n      <td>B</td>\n      <td>B</td>\n      <td>C</td>\n    </tr>\n  </tbody>\n</table>\n<p>10 rows × 167 columns</p>\n</div>"
     },
     "metadata": {},
     "execution_count": 178
    }
   ],
   "source": [
    "\"\"\"\n",
    "Importando os dados de treinamento\n",
    "\"\"\"\n",
    "\n",
    "data = pd.read_csv('train.csv')\n",
    "data.head(10)"
   ]
  },
  {
   "cell_type": "code",
   "execution_count": 179,
   "metadata": {},
   "outputs": [
    {
     "output_type": "execute_result",
     "data": {
      "text/plain": "                               NU_INSCRICAO  CO_UF_RESIDENCIA  \\\n0  ba0cc30ba34e7a46764c09dfc38ed83d15828897                43   \n1  177f281c68fa032aedbd842a745da68490926cd2                15   \n2  6cf0d8b97597d7625cdedc7bdb6c0f052286c334                29   \n3  5c356d810fa57671402502cd0933e5601a2ebf1e                41   \n4  df47c07bd881c2db3f38c6048bf77c132ad0ceb3                53   \n5  3f28749fb79fb059caf5aed79625a5addfd7a91a                35   \n6  bb2a0edddf3c59181a1496390aaaee7f32624d9d                31   \n7  cc7cab347fe5455aae983f3701ca40f84dc01949                23   \n8  95e9338f1da02f7bfa0e3194130afdccc0fb5457                51   \n9  155f84f2ee5b34e658f2adcc70f2ec83e37040cb                33   \n\n  SG_UF_RESIDENCIA  NU_IDADE TP_SEXO  TP_COR_RACA  TP_NACIONALIDADE  \\\n0               RS        19       F            1                 1   \n1               PA        24       M            3                 2   \n2               BA        16       F            2                 1   \n3               PR        17       F            1                 1   \n4               DF        19       F            1                 1   \n5               SP        18       F            1                 1   \n6               MG        16       F            1                 1   \n7               CE        18       M            3                 1   \n8               MT        16       M            1                 1   \n9               RJ        35       F            1                 1   \n\n   TP_ST_CONCLUSAO  TP_ANO_CONCLUIU  TP_ESCOLA  ...  NU_NOTA_COMP5  \\\n0                1                3          1  ...            NaN   \n1                1                4          1  ...            NaN   \n2                3                0          1  ...            NaN   \n3                2                0          2  ...           40.0   \n4                1                1          1  ...           80.0   \n5                2                0          2  ...           80.0   \n6                3                0          1  ...            NaN   \n7                2                0          2  ...           80.0   \n8                3                0          1  ...           60.0   \n9                1               10          1  ...           60.0   \n\n   NU_NOTA_REDACAO  Q001  Q002  Q006  Q024  Q025  Q026  Q027  Q047  \n0              NaN     E     E     H     B     B     C     D     A  \n1              NaN     B     C     B     A     A     C     D     A  \n2              NaN     E     F     G     B     B     A   NaN     D  \n3            480.0     E     E     E     C     B     B     C     A  \n4            720.0     E     E     E     B     B     B     D     A  \n5            480.0     C     C     C     B     B     A   NaN     A  \n6              NaN     C     C     A     B     B     A   NaN     A  \n7            560.0     D     E     C     B     B     A   NaN     A  \n8            500.0     G     F     Q     B     B     A   NaN     D  \n9            540.0     F     E     F     B     B     C     F     D  \n\n[10 rows x 43 columns]",
      "text/html": "<div>\n<style scoped>\n    .dataframe tbody tr th:only-of-type {\n        vertical-align: middle;\n    }\n\n    .dataframe tbody tr th {\n        vertical-align: top;\n    }\n\n    .dataframe thead th {\n        text-align: right;\n    }\n</style>\n<table border=\"1\" class=\"dataframe\">\n  <thead>\n    <tr style=\"text-align: right;\">\n      <th></th>\n      <th>NU_INSCRICAO</th>\n      <th>CO_UF_RESIDENCIA</th>\n      <th>SG_UF_RESIDENCIA</th>\n      <th>NU_IDADE</th>\n      <th>TP_SEXO</th>\n      <th>TP_COR_RACA</th>\n      <th>TP_NACIONALIDADE</th>\n      <th>TP_ST_CONCLUSAO</th>\n      <th>TP_ANO_CONCLUIU</th>\n      <th>TP_ESCOLA</th>\n      <th>...</th>\n      <th>NU_NOTA_COMP5</th>\n      <th>NU_NOTA_REDACAO</th>\n      <th>Q001</th>\n      <th>Q002</th>\n      <th>Q006</th>\n      <th>Q024</th>\n      <th>Q025</th>\n      <th>Q026</th>\n      <th>Q027</th>\n      <th>Q047</th>\n    </tr>\n  </thead>\n  <tbody>\n    <tr>\n      <th>0</th>\n      <td>ba0cc30ba34e7a46764c09dfc38ed83d15828897</td>\n      <td>43</td>\n      <td>RS</td>\n      <td>19</td>\n      <td>F</td>\n      <td>1</td>\n      <td>1</td>\n      <td>1</td>\n      <td>3</td>\n      <td>1</td>\n      <td>...</td>\n      <td>NaN</td>\n      <td>NaN</td>\n      <td>E</td>\n      <td>E</td>\n      <td>H</td>\n      <td>B</td>\n      <td>B</td>\n      <td>C</td>\n      <td>D</td>\n      <td>A</td>\n    </tr>\n    <tr>\n      <th>1</th>\n      <td>177f281c68fa032aedbd842a745da68490926cd2</td>\n      <td>15</td>\n      <td>PA</td>\n      <td>24</td>\n      <td>M</td>\n      <td>3</td>\n      <td>2</td>\n      <td>1</td>\n      <td>4</td>\n      <td>1</td>\n      <td>...</td>\n      <td>NaN</td>\n      <td>NaN</td>\n      <td>B</td>\n      <td>C</td>\n      <td>B</td>\n      <td>A</td>\n      <td>A</td>\n      <td>C</td>\n      <td>D</td>\n      <td>A</td>\n    </tr>\n    <tr>\n      <th>2</th>\n      <td>6cf0d8b97597d7625cdedc7bdb6c0f052286c334</td>\n      <td>29</td>\n      <td>BA</td>\n      <td>16</td>\n      <td>F</td>\n      <td>2</td>\n      <td>1</td>\n      <td>3</td>\n      <td>0</td>\n      <td>1</td>\n      <td>...</td>\n      <td>NaN</td>\n      <td>NaN</td>\n      <td>E</td>\n      <td>F</td>\n      <td>G</td>\n      <td>B</td>\n      <td>B</td>\n      <td>A</td>\n      <td>NaN</td>\n      <td>D</td>\n    </tr>\n    <tr>\n      <th>3</th>\n      <td>5c356d810fa57671402502cd0933e5601a2ebf1e</td>\n      <td>41</td>\n      <td>PR</td>\n      <td>17</td>\n      <td>F</td>\n      <td>1</td>\n      <td>1</td>\n      <td>2</td>\n      <td>0</td>\n      <td>2</td>\n      <td>...</td>\n      <td>40.0</td>\n      <td>480.0</td>\n      <td>E</td>\n      <td>E</td>\n      <td>E</td>\n      <td>C</td>\n      <td>B</td>\n      <td>B</td>\n      <td>C</td>\n      <td>A</td>\n    </tr>\n    <tr>\n      <th>4</th>\n      <td>df47c07bd881c2db3f38c6048bf77c132ad0ceb3</td>\n      <td>53</td>\n      <td>DF</td>\n      <td>19</td>\n      <td>F</td>\n      <td>1</td>\n      <td>1</td>\n      <td>1</td>\n      <td>1</td>\n      <td>1</td>\n      <td>...</td>\n      <td>80.0</td>\n      <td>720.0</td>\n      <td>E</td>\n      <td>E</td>\n      <td>E</td>\n      <td>B</td>\n      <td>B</td>\n      <td>B</td>\n      <td>D</td>\n      <td>A</td>\n    </tr>\n    <tr>\n      <th>5</th>\n      <td>3f28749fb79fb059caf5aed79625a5addfd7a91a</td>\n      <td>35</td>\n      <td>SP</td>\n      <td>18</td>\n      <td>F</td>\n      <td>1</td>\n      <td>1</td>\n      <td>2</td>\n      <td>0</td>\n      <td>2</td>\n      <td>...</td>\n      <td>80.0</td>\n      <td>480.0</td>\n      <td>C</td>\n      <td>C</td>\n      <td>C</td>\n      <td>B</td>\n      <td>B</td>\n      <td>A</td>\n      <td>NaN</td>\n      <td>A</td>\n    </tr>\n    <tr>\n      <th>6</th>\n      <td>bb2a0edddf3c59181a1496390aaaee7f32624d9d</td>\n      <td>31</td>\n      <td>MG</td>\n      <td>16</td>\n      <td>F</td>\n      <td>1</td>\n      <td>1</td>\n      <td>3</td>\n      <td>0</td>\n      <td>1</td>\n      <td>...</td>\n      <td>NaN</td>\n      <td>NaN</td>\n      <td>C</td>\n      <td>C</td>\n      <td>A</td>\n      <td>B</td>\n      <td>B</td>\n      <td>A</td>\n      <td>NaN</td>\n      <td>A</td>\n    </tr>\n    <tr>\n      <th>7</th>\n      <td>cc7cab347fe5455aae983f3701ca40f84dc01949</td>\n      <td>23</td>\n      <td>CE</td>\n      <td>18</td>\n      <td>M</td>\n      <td>3</td>\n      <td>1</td>\n      <td>2</td>\n      <td>0</td>\n      <td>2</td>\n      <td>...</td>\n      <td>80.0</td>\n      <td>560.0</td>\n      <td>D</td>\n      <td>E</td>\n      <td>C</td>\n      <td>B</td>\n      <td>B</td>\n      <td>A</td>\n      <td>NaN</td>\n      <td>A</td>\n    </tr>\n    <tr>\n      <th>8</th>\n      <td>95e9338f1da02f7bfa0e3194130afdccc0fb5457</td>\n      <td>51</td>\n      <td>MT</td>\n      <td>16</td>\n      <td>M</td>\n      <td>1</td>\n      <td>1</td>\n      <td>3</td>\n      <td>0</td>\n      <td>1</td>\n      <td>...</td>\n      <td>60.0</td>\n      <td>500.0</td>\n      <td>G</td>\n      <td>F</td>\n      <td>Q</td>\n      <td>B</td>\n      <td>B</td>\n      <td>A</td>\n      <td>NaN</td>\n      <td>D</td>\n    </tr>\n    <tr>\n      <th>9</th>\n      <td>155f84f2ee5b34e658f2adcc70f2ec83e37040cb</td>\n      <td>33</td>\n      <td>RJ</td>\n      <td>35</td>\n      <td>F</td>\n      <td>1</td>\n      <td>1</td>\n      <td>1</td>\n      <td>10</td>\n      <td>1</td>\n      <td>...</td>\n      <td>60.0</td>\n      <td>540.0</td>\n      <td>F</td>\n      <td>E</td>\n      <td>F</td>\n      <td>B</td>\n      <td>B</td>\n      <td>C</td>\n      <td>F</td>\n      <td>D</td>\n    </tr>\n  </tbody>\n</table>\n<p>10 rows × 43 columns</p>\n</div>"
     },
     "metadata": {},
     "execution_count": 179
    }
   ],
   "source": [
    "\"\"\"\n",
    "Importando os dados de teste e salvando o id que será usado para submissão\n",
    "\"\"\"\n",
    "\n",
    "test = pd.read_csv('test.csv')\n",
    "test_id = test['NU_INSCRICAO']\n",
    "test.head(10)"
   ]
  },
  {
   "cell_type": "code",
   "execution_count": 180,
   "metadata": {},
   "outputs": [],
   "source": [
    "\"\"\"\n",
    "Excluindo dos dados de treinamento as colunas que não estão no test.csv\n",
    "\"\"\"\n",
    "\n",
    "used_columns = test.columns.tolist()\n",
    "used_columns.append('IN_TREINEIRO')\n",
    "\n",
    "data = data[used_columns]"
   ]
  },
  {
   "cell_type": "code",
   "execution_count": 181,
   "metadata": {},
   "outputs": [
    {
     "output_type": "stream",
     "name": "stdout",
     "text": "<class 'pandas.core.frame.DataFrame'>\nRangeIndex: 13730 entries, 0 to 13729\nData columns (total 44 columns):\nNU_INSCRICAO              13730 non-null object\nCO_UF_RESIDENCIA          13730 non-null int64\nSG_UF_RESIDENCIA          13730 non-null object\nNU_IDADE                  13730 non-null int64\nTP_SEXO                   13730 non-null object\nTP_COR_RACA               13730 non-null int64\nTP_NACIONALIDADE          13730 non-null int64\nTP_ST_CONCLUSAO           13730 non-null int64\nTP_ANO_CONCLUIU           13730 non-null int64\nTP_ESCOLA                 13730 non-null int64\nTP_ENSINO                 4282 non-null float64\nTP_DEPENDENCIA_ADM_ESC    4282 non-null float64\nIN_BAIXA_VISAO            13730 non-null int64\nIN_CEGUEIRA               13730 non-null int64\nIN_SURDEZ                 13730 non-null int64\nIN_DISLEXIA               13730 non-null int64\nIN_DISCALCULIA            13730 non-null int64\nIN_SABATISTA              13730 non-null int64\nIN_GESTANTE               13730 non-null int64\nIN_IDOSO                  13730 non-null int64\nTP_PRESENCA_CN            13730 non-null int64\nTP_PRESENCA_CH            13730 non-null int64\nTP_PRESENCA_LC            13730 non-null int64\nTP_PRESENCA_MT            13730 non-null int64\nNU_NOTA_CN                10341 non-null float64\nNU_NOTA_CH                10341 non-null float64\nNU_NOTA_LC                10133 non-null float64\nTP_LINGUA                 13730 non-null int64\nTP_STATUS_REDACAO         10133 non-null float64\nNU_NOTA_COMP1             10133 non-null float64\nNU_NOTA_COMP2             10133 non-null float64\nNU_NOTA_COMP3             10133 non-null float64\nNU_NOTA_COMP4             10133 non-null float64\nNU_NOTA_COMP5             10133 non-null float64\nNU_NOTA_REDACAO           10133 non-null float64\nQ001                      13730 non-null object\nQ002                      13730 non-null object\nQ006                      13730 non-null object\nQ024                      13730 non-null object\nQ025                      13730 non-null object\nQ026                      13730 non-null object\nQ027                      6357 non-null object\nQ047                      13730 non-null object\nIN_TREINEIRO              13730 non-null int64\ndtypes: float64(12), int64(21), object(11)\nmemory usage: 4.6+ MB\n"
    }
   ],
   "source": [
    "data.info()"
   ]
  },
  {
   "cell_type": "code",
   "execution_count": 182,
   "metadata": {},
   "outputs": [
    {
     "output_type": "execute_result",
     "data": {
      "text/plain": "  SG_UF_RESIDENCIA  NU_IDADE TP_SEXO  TP_COR_RACA  TP_NACIONALIDADE  \\\n0               RS        24       M            1                 1   \n1               CE        17       F            3                 1   \n2               CE        21       F            3                 1   \n3               RJ        25       F            0                 1   \n4               AM        28       M            2                 1   \n5               BA        18       F            1                 1   \n6               MT        18       F            3                 1   \n7               RS        18       F            1                 1   \n8               PE        16       F            3                 1   \n9               MG        24       M            4                 2   \n\n   TP_ST_CONCLUSAO  TP_ANO_CONCLUIU  TP_ESCOLA  TP_ENSINO  \\\n0                1                4          1        NaN   \n1                2                0          2        1.0   \n2                3                0          1        NaN   \n3                1                9          1        NaN   \n4                1                4          1        NaN   \n5                1                1          1        NaN   \n6                2                0          2        1.0   \n7                1                1          1        NaN   \n8                2                0          2        1.0   \n9                4                0          1        NaN   \n\n   TP_DEPENDENCIA_ADM_ESC  ...  NU_NOTA_REDACAO  Q001  Q002  Q006  Q024  Q025  \\\n0                     NaN  ...            520.0     D     D     C     A     A   \n1                     2.0  ...            580.0     A     A     B     A     A   \n2                     NaN  ...              NaN     D     D     C     A     A   \n3                     NaN  ...              NaN     H     E     E     C     B   \n4                     NaN  ...              NaN     E     D     C     A     A   \n5                     NaN  ...            620.0     E     E     C     B     B   \n6                     2.0  ...            560.0     E     D     C     B     B   \n7                     NaN  ...            620.0     G     F     L     B     B   \n8                     2.0  ...            680.0     H     E     B     A     B   \n9                     NaN  ...              NaN     H     E     G     B     B   \n\n   Q026  Q027  Q047  IN_TREINEIRO  \n0     C     H     A             0  \n1     A   NaN     A             0  \n2     A   NaN     A             0  \n3     C     F     D             0  \n4     B     F     A             0  \n5     A   NaN     A             0  \n6     C     E     A             0  \n7     A   NaN     D             0  \n8     A   NaN     A             0  \n9     B     H     A             0  \n\n[10 rows x 42 columns]",
      "text/html": "<div>\n<style scoped>\n    .dataframe tbody tr th:only-of-type {\n        vertical-align: middle;\n    }\n\n    .dataframe tbody tr th {\n        vertical-align: top;\n    }\n\n    .dataframe thead th {\n        text-align: right;\n    }\n</style>\n<table border=\"1\" class=\"dataframe\">\n  <thead>\n    <tr style=\"text-align: right;\">\n      <th></th>\n      <th>SG_UF_RESIDENCIA</th>\n      <th>NU_IDADE</th>\n      <th>TP_SEXO</th>\n      <th>TP_COR_RACA</th>\n      <th>TP_NACIONALIDADE</th>\n      <th>TP_ST_CONCLUSAO</th>\n      <th>TP_ANO_CONCLUIU</th>\n      <th>TP_ESCOLA</th>\n      <th>TP_ENSINO</th>\n      <th>TP_DEPENDENCIA_ADM_ESC</th>\n      <th>...</th>\n      <th>NU_NOTA_REDACAO</th>\n      <th>Q001</th>\n      <th>Q002</th>\n      <th>Q006</th>\n      <th>Q024</th>\n      <th>Q025</th>\n      <th>Q026</th>\n      <th>Q027</th>\n      <th>Q047</th>\n      <th>IN_TREINEIRO</th>\n    </tr>\n  </thead>\n  <tbody>\n    <tr>\n      <th>0</th>\n      <td>RS</td>\n      <td>24</td>\n      <td>M</td>\n      <td>1</td>\n      <td>1</td>\n      <td>1</td>\n      <td>4</td>\n      <td>1</td>\n      <td>NaN</td>\n      <td>NaN</td>\n      <td>...</td>\n      <td>520.0</td>\n      <td>D</td>\n      <td>D</td>\n      <td>C</td>\n      <td>A</td>\n      <td>A</td>\n      <td>C</td>\n      <td>H</td>\n      <td>A</td>\n      <td>0</td>\n    </tr>\n    <tr>\n      <th>1</th>\n      <td>CE</td>\n      <td>17</td>\n      <td>F</td>\n      <td>3</td>\n      <td>1</td>\n      <td>2</td>\n      <td>0</td>\n      <td>2</td>\n      <td>1.0</td>\n      <td>2.0</td>\n      <td>...</td>\n      <td>580.0</td>\n      <td>A</td>\n      <td>A</td>\n      <td>B</td>\n      <td>A</td>\n      <td>A</td>\n      <td>A</td>\n      <td>NaN</td>\n      <td>A</td>\n      <td>0</td>\n    </tr>\n    <tr>\n      <th>2</th>\n      <td>CE</td>\n      <td>21</td>\n      <td>F</td>\n      <td>3</td>\n      <td>1</td>\n      <td>3</td>\n      <td>0</td>\n      <td>1</td>\n      <td>NaN</td>\n      <td>NaN</td>\n      <td>...</td>\n      <td>NaN</td>\n      <td>D</td>\n      <td>D</td>\n      <td>C</td>\n      <td>A</td>\n      <td>A</td>\n      <td>A</td>\n      <td>NaN</td>\n      <td>A</td>\n      <td>0</td>\n    </tr>\n    <tr>\n      <th>3</th>\n      <td>RJ</td>\n      <td>25</td>\n      <td>F</td>\n      <td>0</td>\n      <td>1</td>\n      <td>1</td>\n      <td>9</td>\n      <td>1</td>\n      <td>NaN</td>\n      <td>NaN</td>\n      <td>...</td>\n      <td>NaN</td>\n      <td>H</td>\n      <td>E</td>\n      <td>E</td>\n      <td>C</td>\n      <td>B</td>\n      <td>C</td>\n      <td>F</td>\n      <td>D</td>\n      <td>0</td>\n    </tr>\n    <tr>\n      <th>4</th>\n      <td>AM</td>\n      <td>28</td>\n      <td>M</td>\n      <td>2</td>\n      <td>1</td>\n      <td>1</td>\n      <td>4</td>\n      <td>1</td>\n      <td>NaN</td>\n      <td>NaN</td>\n      <td>...</td>\n      <td>NaN</td>\n      <td>E</td>\n      <td>D</td>\n      <td>C</td>\n      <td>A</td>\n      <td>A</td>\n      <td>B</td>\n      <td>F</td>\n      <td>A</td>\n      <td>0</td>\n    </tr>\n    <tr>\n      <th>5</th>\n      <td>BA</td>\n      <td>18</td>\n      <td>F</td>\n      <td>1</td>\n      <td>1</td>\n      <td>1</td>\n      <td>1</td>\n      <td>1</td>\n      <td>NaN</td>\n      <td>NaN</td>\n      <td>...</td>\n      <td>620.0</td>\n      <td>E</td>\n      <td>E</td>\n      <td>C</td>\n      <td>B</td>\n      <td>B</td>\n      <td>A</td>\n      <td>NaN</td>\n      <td>A</td>\n      <td>0</td>\n    </tr>\n    <tr>\n      <th>6</th>\n      <td>MT</td>\n      <td>18</td>\n      <td>F</td>\n      <td>3</td>\n      <td>1</td>\n      <td>2</td>\n      <td>0</td>\n      <td>2</td>\n      <td>1.0</td>\n      <td>2.0</td>\n      <td>...</td>\n      <td>560.0</td>\n      <td>E</td>\n      <td>D</td>\n      <td>C</td>\n      <td>B</td>\n      <td>B</td>\n      <td>C</td>\n      <td>E</td>\n      <td>A</td>\n      <td>0</td>\n    </tr>\n    <tr>\n      <th>7</th>\n      <td>RS</td>\n      <td>18</td>\n      <td>F</td>\n      <td>1</td>\n      <td>1</td>\n      <td>1</td>\n      <td>1</td>\n      <td>1</td>\n      <td>NaN</td>\n      <td>NaN</td>\n      <td>...</td>\n      <td>620.0</td>\n      <td>G</td>\n      <td>F</td>\n      <td>L</td>\n      <td>B</td>\n      <td>B</td>\n      <td>A</td>\n      <td>NaN</td>\n      <td>D</td>\n      <td>0</td>\n    </tr>\n    <tr>\n      <th>8</th>\n      <td>PE</td>\n      <td>16</td>\n      <td>F</td>\n      <td>3</td>\n      <td>1</td>\n      <td>2</td>\n      <td>0</td>\n      <td>2</td>\n      <td>1.0</td>\n      <td>2.0</td>\n      <td>...</td>\n      <td>680.0</td>\n      <td>H</td>\n      <td>E</td>\n      <td>B</td>\n      <td>A</td>\n      <td>B</td>\n      <td>A</td>\n      <td>NaN</td>\n      <td>A</td>\n      <td>0</td>\n    </tr>\n    <tr>\n      <th>9</th>\n      <td>MG</td>\n      <td>24</td>\n      <td>M</td>\n      <td>4</td>\n      <td>2</td>\n      <td>4</td>\n      <td>0</td>\n      <td>1</td>\n      <td>NaN</td>\n      <td>NaN</td>\n      <td>...</td>\n      <td>NaN</td>\n      <td>H</td>\n      <td>E</td>\n      <td>G</td>\n      <td>B</td>\n      <td>B</td>\n      <td>B</td>\n      <td>H</td>\n      <td>A</td>\n      <td>0</td>\n    </tr>\n  </tbody>\n</table>\n<p>10 rows × 42 columns</p>\n</div>"
     },
     "metadata": {},
     "execution_count": 182
    }
   ],
   "source": [
    "\"\"\" \n",
    "Excluindo itens referentes a códigos\n",
    "\"\"\"\n",
    "\n",
    "data.drop(columns=['NU_INSCRICAO', 'CO_UF_RESIDENCIA'], inplace=True)\n",
    "test.drop(columns=['NU_INSCRICAO', 'CO_UF_RESIDENCIA'], inplace=True)\n",
    "data.head(10)"
   ]
  },
  {
   "cell_type": "code",
   "execution_count": 183,
   "metadata": {},
   "outputs": [],
   "source": [
    "\"\"\"\n",
    "Dropando colunas com número de valores nulos maior que um dado limiar\n",
    "\"\"\"\n",
    "\n",
    "threshold = 0.6\n",
    "\n",
    "data = data[data.columns[data.isnull().mean() < threshold]]\n",
    "test = test[test.columns[test.isnull().mean() < threshold]]"
   ]
  },
  {
   "cell_type": "code",
   "execution_count": 184,
   "metadata": {},
   "outputs": [],
   "source": [
    "\"\"\"\n",
    "Dropando linhas com número de valores nulos maior que um dado limiar\n",
    "\"\"\"\n",
    "\n",
    "data = data.loc[data.isnull().mean(axis=1) < threshold]\n",
    "test = test.loc[test.isnull().mean(axis=1) < threshold]"
   ]
  },
  {
   "cell_type": "code",
   "execution_count": 185,
   "metadata": {},
   "outputs": [],
   "source": [
    "\"\"\"\n",
    "Dropando colunas com variância muito baixa\n",
    "\"\"\"\n",
    "\n",
    "data.drop(columns=data.std()[data.std() < 0.2].index.values, inplace=True)\n",
    "test.drop(columns=test.std()[test.std() < 0.2].index.values, inplace=True)"
   ]
  },
  {
   "cell_type": "code",
   "execution_count": 186,
   "metadata": {},
   "outputs": [],
   "source": [
    "\"\"\"\n",
    "Imputando dados faltantes com 0\n",
    "\"\"\"\n",
    "\n",
    "data.fillna(0, inplace=True)\n",
    "test.fillna(0, inplace=True)"
   ]
  },
  {
   "cell_type": "code",
   "execution_count": 188,
   "metadata": {},
   "outputs": [
    {
     "output_type": "execute_result",
     "data": {
      "text/plain": "NU_IDADE            -0.295091\nTP_COR_RACA          0.009676\nTP_NACIONALIDADE    -0.015179\nTP_ST_CONCLUSAO      0.533983\nTP_ANO_CONCLUIU     -0.257710\nTP_ESCOLA           -0.244562\nTP_PRESENCA_CN       0.094692\nTP_PRESENCA_CH       0.094692\nTP_PRESENCA_LC       0.092454\nTP_PRESENCA_MT       0.092454\nNU_NOTA_CN           0.080915\nNU_NOTA_CH           0.078276\nNU_NOTA_LC           0.083731\nTP_LINGUA           -0.036395\nTP_STATUS_REDACAO    0.063190\nNU_NOTA_COMP1        0.080326\nNU_NOTA_COMP2        0.069545\nNU_NOTA_COMP3        0.064340\nNU_NOTA_COMP4        0.068862\nNU_NOTA_COMP5        0.045809\nNU_NOTA_REDACAO      0.069119\nIN_TREINEIRO         1.000000\nName: IN_TREINEIRO, dtype: float64"
     },
     "metadata": {},
     "execution_count": 188
    }
   ],
   "source": [
    "\"\"\"\n",
    "Analisando características mais correlacionadas com a label\n",
    "\"\"\"\n",
    "\n",
    "data.corr()['IN_TREINEIRO']"
   ]
  },
  {
   "cell_type": "code",
   "execution_count": 189,
   "metadata": {},
   "outputs": [],
   "source": [
    "\"\"\"\n",
    "Fazendo imputação dos valores faltantes de colunas categóricas com o item que mais se repete (treino)\n",
    "\"\"\"\n",
    "\n",
    "remaining_columns_train = data.columns[data.isna().mean() > 0]\n",
    "\n",
    "for column in remaining_columns_train:\n",
    "    data[column].fillna(data[column].value_counts().idxmax(), inplace=True)"
   ]
  },
  {
   "cell_type": "code",
   "execution_count": 190,
   "metadata": {},
   "outputs": [],
   "source": [
    "\"\"\"\n",
    "Fazendo imputação dos valores faltantes de colunas categóricas com o item que mais se repete (teste)\n",
    "\"\"\"\n",
    "\n",
    "remaining_columns_test = test.columns[test.isna().mean() > 0]\n",
    "\n",
    "for column in remaining_columns_test:\n",
    "    test[column].fillna(test[column].value_counts().idxmax(), inplace=True)"
   ]
  },
  {
   "cell_type": "code",
   "execution_count": 191,
   "metadata": {},
   "outputs": [],
   "source": [
    "\"\"\"\n",
    "Aparentemente poucas características tem umas relação com o fato do aluno ser treineiro ou não, que são informações relacionadas à sua idade e se já concluiu o ensino médio. Dessa forma, serão utilizadas essas características\n",
    "\"\"\"\n",
    "\n",
    "encode = ['NU_IDADE', 'TP_ST_CONCLUSAO', 'TP_ANO_CONCLUIU']"
   ]
  },
  {
   "cell_type": "code",
   "execution_count": 192,
   "metadata": {},
   "outputs": [],
   "source": [
    "\"\"\"\n",
    "Selecionando as colunas que serão utilizadas para treinamento\n",
    "\"\"\"\n",
    "\n",
    "X_train = data[encode]\n",
    "y_train = data['IN_TREINEIRO']\n",
    "X_test = test[encode]"
   ]
  },
  {
   "cell_type": "code",
   "execution_count": 193,
   "metadata": {},
   "outputs": [
    {
     "output_type": "execute_result",
     "data": {
      "text/plain": "Pipeline(steps=[('encoder',\n                 JamesSteinEncoder(cols=['NU_IDADE', 'TP_ST_CONCLUSAO',\n                                         'TP_ANO_CONCLUIU'])),\n                ('clf',\n                 XGBClassifier(base_score=0.5, booster='gbtree',\n                               colsample_bylevel=1, colsample_bynode=1,\n                               colsample_bytree=1, gamma=0, gpu_id=-1,\n                               importance_type='gain',\n                               interaction_constraints='',\n                               learning_rate=0.300000012, max_delta_step=0,\n                               max_depth=6, min_child_weight=1, missing=nan,\n                               monotone_constraints='()', n_estimators=100,\n                               n_jobs=0, num_parallel_tree=1, random_state=0,\n                               reg_alpha=0, reg_lambda=1, scale_pos_weight=1,\n                               subsample=1, tree_method='exact',\n                               validate_parameters=1, verbosity=None))])"
     },
     "metadata": {},
     "execution_count": 193
    }
   ],
   "source": [
    "\"\"\"\n",
    "Criando pipeline básico para modularização do treinamento\n",
    "\"\"\"\n",
    "\n",
    "import category_encoders as ce\n",
    "\n",
    "from sklearn.pipeline import Pipeline\n",
    "from sklearn.ensemble import RandomForestClassifier\n",
    "from xgboost import XGBClassifier\n",
    "\n",
    "model = Pipeline([('encoder', ce.JamesSteinEncoder(cols=encode)), \n",
    "                ('clf', XGBClassifier())])\n",
    "                \n",
    "model.fit(X_train, y_train)"
   ]
  },
  {
   "cell_type": "code",
   "execution_count": 194,
   "metadata": {},
   "outputs": [
    {
     "output_type": "execute_result",
     "data": {
      "text/plain": "array([0, 0, 1, ..., 0, 0, 0])"
     },
     "metadata": {},
     "execution_count": 194
    }
   ],
   "source": [
    "\"\"\"\n",
    "Predizendo notas do csv de teste\n",
    "\"\"\"\n",
    "\n",
    "predictions = model.predict(X_test)\n",
    "predictions"
   ]
  },
  {
   "cell_type": "code",
   "execution_count": 195,
   "metadata": {},
   "outputs": [],
   "source": [
    "\"\"\"\n",
    "Preparando arquivo de submissão\n",
    "\"\"\"\n",
    "\n",
    "submission = pd.DataFrame({'NU_INSCRICAO': test_id, 'IN_TREINEIRO': predictions})\n",
    "submission.to_csv('answer.csv', index=False)"
   ]
  }
 ],
 "metadata": {
  "language_info": {
   "codemirror_mode": {
    "name": "ipython",
    "version": 3
   },
   "file_extension": ".py",
   "mimetype": "text/x-python",
   "name": "python",
   "nbconvert_exporter": "python",
   "pygments_lexer": "ipython3",
   "version": "3.7.5-final"
  },
  "orig_nbformat": 2,
  "kernelspec": {
   "name": "python37564bitcodenationvenvc90997419e5a4d9b948534d3d593ba8e",
   "display_name": "Python 3.7.5 64-bit ('codenation': venv)"
  }
 },
 "nbformat": 4,
 "nbformat_minor": 2
}